{
  "cells": [
    {
      "cell_type": "markdown",
      "id": "949ed12f",
      "metadata": {},
      "source": [
        "### Описание задачи\n",
        "\n",
        "Разработать сервис для предсказания стоимости домов на основе истории предложений."
      ]
    },
    {
      "cell_type": "markdown",
      "id": "d67d069e",
      "metadata": {
        "id": "d67d069e"
      },
      "source": [
        "Импортируем необходимые библиотеки:"
      ]
    },
    {
      "cell_type": "code",
      "execution_count": 5,
      "id": "83a555bc-8dff-4b7e-bba1-cd4f4a9e69b2",
      "metadata": {
        "id": "83a555bc-8dff-4b7e-bba1-cd4f4a9e69b2"
      },
      "outputs": [],
      "source": [
        "import re\n",
        "import numpy as np # для работы с массивами\n",
        "import pandas as pd # для работы с DataFrame \n",
        "import seaborn as sns # библиотека для визуализации статистических данных\n",
        "import matplotlib.pyplot as plt # для построения графиков\n",
        "from sklearn import metrics #метрики\n",
        "from sklearn.model_selection import RandomizedSearchCV\n",
        "from sklearn.feature_selection import SelectKBest\n",
        "from sklearn import linear_model #линейные моделиё\n",
        "from sklearn import tree #деревья решений\n",
        "from sklearn import ensemble #ансамбли\n",
        "from sklearn import preprocessing #предобработка\n",
        "import sklearn.preprocessing as pp # импорт для работы с кодировщиком\n",
        "from sklearn.model_selection import train_test_split #сплитование выборки\n",
        "from scipy import stats\n",
        "import statsmodels.api as sm\n",
        "from statsmodels import stats as sms\n",
        "import optuna\n",
        "from datetime import date\n",
        "from sklearn import model_selection #методы разделения и валидации\n",
        "\n",
        "import warnings # для игнорирования предупреждений\n",
        "#Игнорируем варнинги\n",
        "warnings.filterwarnings('ignore')\n",
        "\n",
        "%matplotlib inline"
      ]
    },
    {
      "cell_type": "markdown",
      "id": "e689ddaf",
      "metadata": {
        "id": "e689ddaf"
      },
      "source": [
        "Прочитаем исходные данные:"
      ]
    },
    {
      "cell_type": "code",
      "execution_count": 6,
      "id": "b7b5cd9b-703f-4dbc-a6e3-61d583eafcac",
      "metadata": {
        "colab": {
          "base_uri": "https://localhost:8080/",
          "height": 206
        },
        "id": "b7b5cd9b-703f-4dbc-a6e3-61d583eafcac",
        "outputId": "d4e99a48-2a0d-4edd-f86c-617c44bf36d2"
      },
      "outputs": [
        {
          "data": {
            "text/html": [
              "<div>\n",
              "<style scoped>\n",
              "    .dataframe tbody tr th:only-of-type {\n",
              "        vertical-align: middle;\n",
              "    }\n",
              "\n",
              "    .dataframe tbody tr th {\n",
              "        vertical-align: top;\n",
              "    }\n",
              "\n",
              "    .dataframe thead th {\n",
              "        text-align: right;\n",
              "    }\n",
              "</style>\n",
              "<table border=\"1\" class=\"dataframe\">\n",
              "  <thead>\n",
              "    <tr style=\"text-align: right;\">\n",
              "      <th></th>\n",
              "      <th>status</th>\n",
              "      <th>private pool</th>\n",
              "      <th>propertyType</th>\n",
              "      <th>street</th>\n",
              "      <th>baths</th>\n",
              "      <th>homeFacts</th>\n",
              "      <th>fireplace</th>\n",
              "      <th>city</th>\n",
              "      <th>schools</th>\n",
              "      <th>sqft</th>\n",
              "      <th>zipcode</th>\n",
              "      <th>beds</th>\n",
              "      <th>state</th>\n",
              "      <th>stories</th>\n",
              "      <th>mls-id</th>\n",
              "      <th>PrivatePool</th>\n",
              "      <th>MlsId</th>\n",
              "      <th>target</th>\n",
              "    </tr>\n",
              "  </thead>\n",
              "  <tbody>\n",
              "    <tr>\n",
              "      <th>0</th>\n",
              "      <td>Active</td>\n",
              "      <td>NaN</td>\n",
              "      <td>Single Family Home</td>\n",
              "      <td>240 Heather Ln</td>\n",
              "      <td>3.5</td>\n",
              "      <td>{'atAGlanceFacts': [{'factValue': '2019', 'fac...</td>\n",
              "      <td>Gas Logs</td>\n",
              "      <td>Southern Pines</td>\n",
              "      <td>[{'rating': ['4', '4', '7', 'NR', '4', '7', 'N...</td>\n",
              "      <td>2900</td>\n",
              "      <td>28387</td>\n",
              "      <td>4</td>\n",
              "      <td>NC</td>\n",
              "      <td>NaN</td>\n",
              "      <td>NaN</td>\n",
              "      <td>NaN</td>\n",
              "      <td>611019</td>\n",
              "      <td>$418,000</td>\n",
              "    </tr>\n",
              "    <tr>\n",
              "      <th>1</th>\n",
              "      <td>for sale</td>\n",
              "      <td>NaN</td>\n",
              "      <td>single-family home</td>\n",
              "      <td>12911 E Heroy Ave</td>\n",
              "      <td>3 Baths</td>\n",
              "      <td>{'atAGlanceFacts': [{'factValue': '2019', 'fac...</td>\n",
              "      <td>NaN</td>\n",
              "      <td>Spokane Valley</td>\n",
              "      <td>[{'rating': ['4/10', 'None/10', '4/10'], 'data...</td>\n",
              "      <td>1,947 sqft</td>\n",
              "      <td>99216</td>\n",
              "      <td>3 Beds</td>\n",
              "      <td>WA</td>\n",
              "      <td>2.0</td>\n",
              "      <td>NaN</td>\n",
              "      <td>NaN</td>\n",
              "      <td>201916904</td>\n",
              "      <td>$310,000</td>\n",
              "    </tr>\n",
              "    <tr>\n",
              "      <th>2</th>\n",
              "      <td>for sale</td>\n",
              "      <td>NaN</td>\n",
              "      <td>single-family home</td>\n",
              "      <td>2005 Westridge Rd</td>\n",
              "      <td>2 Baths</td>\n",
              "      <td>{'atAGlanceFacts': [{'factValue': '1961', 'fac...</td>\n",
              "      <td>yes</td>\n",
              "      <td>Los Angeles</td>\n",
              "      <td>[{'rating': ['8/10', '4/10', '8/10'], 'data': ...</td>\n",
              "      <td>3,000 sqft</td>\n",
              "      <td>90049</td>\n",
              "      <td>3 Beds</td>\n",
              "      <td>CA</td>\n",
              "      <td>1.0</td>\n",
              "      <td>NaN</td>\n",
              "      <td>yes</td>\n",
              "      <td>FR19221027</td>\n",
              "      <td>$2,895,000</td>\n",
              "    </tr>\n",
              "    <tr>\n",
              "      <th>3</th>\n",
              "      <td>for sale</td>\n",
              "      <td>NaN</td>\n",
              "      <td>single-family home</td>\n",
              "      <td>4311 Livingston Ave</td>\n",
              "      <td>8 Baths</td>\n",
              "      <td>{'atAGlanceFacts': [{'factValue': '2006', 'fac...</td>\n",
              "      <td>yes</td>\n",
              "      <td>Dallas</td>\n",
              "      <td>[{'rating': ['9/10', '9/10', '10/10', '9/10'],...</td>\n",
              "      <td>6,457 sqft</td>\n",
              "      <td>75205</td>\n",
              "      <td>5 Beds</td>\n",
              "      <td>TX</td>\n",
              "      <td>3.0</td>\n",
              "      <td>NaN</td>\n",
              "      <td>NaN</td>\n",
              "      <td>14191809</td>\n",
              "      <td>$2,395,000</td>\n",
              "    </tr>\n",
              "    <tr>\n",
              "      <th>4</th>\n",
              "      <td>for sale</td>\n",
              "      <td>NaN</td>\n",
              "      <td>lot/land</td>\n",
              "      <td>1524 Kiscoe St</td>\n",
              "      <td>NaN</td>\n",
              "      <td>{'atAGlanceFacts': [{'factValue': '', 'factLab...</td>\n",
              "      <td>NaN</td>\n",
              "      <td>Palm Bay</td>\n",
              "      <td>[{'rating': ['4/10', '5/10', '5/10'], 'data': ...</td>\n",
              "      <td>NaN</td>\n",
              "      <td>32908</td>\n",
              "      <td>NaN</td>\n",
              "      <td>FL</td>\n",
              "      <td>NaN</td>\n",
              "      <td>NaN</td>\n",
              "      <td>NaN</td>\n",
              "      <td>861745</td>\n",
              "      <td>$5,000</td>\n",
              "    </tr>\n",
              "  </tbody>\n",
              "</table>\n",
              "</div>"
            ],
            "text/plain": [
              "     status private pool        propertyType               street    baths  \\\n",
              "0    Active          NaN  Single Family Home       240 Heather Ln      3.5   \n",
              "1  for sale          NaN  single-family home    12911 E Heroy Ave  3 Baths   \n",
              "2  for sale          NaN  single-family home    2005 Westridge Rd  2 Baths   \n",
              "3  for sale          NaN  single-family home  4311 Livingston Ave  8 Baths   \n",
              "4  for sale          NaN            lot/land       1524 Kiscoe St      NaN   \n",
              "\n",
              "                                           homeFacts fireplace  \\\n",
              "0  {'atAGlanceFacts': [{'factValue': '2019', 'fac...  Gas Logs   \n",
              "1  {'atAGlanceFacts': [{'factValue': '2019', 'fac...       NaN   \n",
              "2  {'atAGlanceFacts': [{'factValue': '1961', 'fac...       yes   \n",
              "3  {'atAGlanceFacts': [{'factValue': '2006', 'fac...       yes   \n",
              "4  {'atAGlanceFacts': [{'factValue': '', 'factLab...       NaN   \n",
              "\n",
              "             city                                            schools  \\\n",
              "0  Southern Pines  [{'rating': ['4', '4', '7', 'NR', '4', '7', 'N...   \n",
              "1  Spokane Valley  [{'rating': ['4/10', 'None/10', '4/10'], 'data...   \n",
              "2     Los Angeles  [{'rating': ['8/10', '4/10', '8/10'], 'data': ...   \n",
              "3          Dallas  [{'rating': ['9/10', '9/10', '10/10', '9/10'],...   \n",
              "4        Palm Bay  [{'rating': ['4/10', '5/10', '5/10'], 'data': ...   \n",
              "\n",
              "         sqft zipcode    beds state stories mls-id PrivatePool       MlsId  \\\n",
              "0        2900   28387       4    NC     NaN    NaN         NaN      611019   \n",
              "1  1,947 sqft   99216  3 Beds    WA     2.0    NaN         NaN   201916904   \n",
              "2  3,000 sqft   90049  3 Beds    CA     1.0    NaN         yes  FR19221027   \n",
              "3  6,457 sqft   75205  5 Beds    TX     3.0    NaN         NaN    14191809   \n",
              "4         NaN   32908     NaN    FL     NaN    NaN         NaN      861745   \n",
              "\n",
              "       target  \n",
              "0    $418,000  \n",
              "1    $310,000  \n",
              "2  $2,895,000  \n",
              "3  $2,395,000  \n",
              "4      $5,000  "
            ]
          },
          "execution_count": 6,
          "metadata": {},
          "output_type": "execute_result"
        }
      ],
      "source": [
        "data = pd.read_csv('data/data.csv')\n",
        "data.head()"
      ]
    },
    {
      "cell_type": "markdown",
      "id": "4cdfa9a9",
      "metadata": {},
      "source": [
        "**Признаки:**\n",
        "\n",
        "* status - статус продажи\n",
        "* private pool и PrivatePool - наличие частного бассейна,\n",
        "* propertyType - тип недвижимости, поместья, свойства,\n",
        "* street - адрес дома\n",
        "* baths - количество ванных комнат\n",
        "* homeFacts - сведения о строении дома, содержит несколько отдельных данных, имеющих влияние на оценку недвижимости, дома, квартиры\n",
        "* fireplace - сведения о наличии камина(ов) в доме\n",
        "* city - город\n",
        "* schools - сведения о школах в районе\n",
        "* sqft - площадь дома в футах\n",
        "* zipcode - почтовый индекс\n",
        "* beds - количество спален в доме\n",
        "* state - государство/штаты\n",
        "* stories - этажность недвижимости\n",
        "* mls-id и MlsId - идентификатор MLS (Multiple Listing Service - Служба множественного листинга)\n",
        "* target - целевой признак, который необходимо спрогнозировать - цена недвижимости"
      ]
    },
    {
      "cell_type": "markdown",
      "id": "e982fe2b",
      "metadata": {},
      "source": [
        "Выводим информацию о признаках:"
      ]
    },
    {
      "cell_type": "code",
      "execution_count": 7,
      "id": "5b31ec50",
      "metadata": {},
      "outputs": [
        {
          "name": "stdout",
          "output_type": "stream",
          "text": [
            "<class 'pandas.core.frame.DataFrame'>\n",
            "RangeIndex: 377185 entries, 0 to 377184\n",
            "Data columns (total 18 columns):\n",
            " #   Column        Non-Null Count   Dtype \n",
            "---  ------        --------------   ----- \n",
            " 0   status        337267 non-null  object\n",
            " 1   private pool  4181 non-null    object\n",
            " 2   propertyType  342452 non-null  object\n",
            " 3   street        377183 non-null  object\n",
            " 4   baths         270847 non-null  object\n",
            " 5   homeFacts     377185 non-null  object\n",
            " 6   fireplace     103115 non-null  object\n",
            " 7   city          377151 non-null  object\n",
            " 8   schools       377185 non-null  object\n",
            " 9   sqft          336608 non-null  object\n",
            " 10  zipcode       377185 non-null  object\n",
            " 11  beds          285903 non-null  object\n",
            " 12  state         377185 non-null  object\n",
            " 13  stories       226470 non-null  object\n",
            " 14  mls-id        24942 non-null   object\n",
            " 15  PrivatePool   40311 non-null   object\n",
            " 16  MlsId         310305 non-null  object\n",
            " 17  target        374704 non-null  object\n",
            "dtypes: object(18)\n",
            "memory usage: 51.8+ MB\n"
          ]
        }
      ],
      "source": [
        "data.info()"
      ]
    },
    {
      "cell_type": "markdown",
      "id": "a39f3d68",
      "metadata": {},
      "source": [
        "Все признаки имеют формат object, необходимо преобразование."
      ]
    },
    {
      "cell_type": "markdown",
      "id": "41de06b0",
      "metadata": {},
      "source": [
        "Проверяем наличие пропусков:\n"
      ]
    },
    {
      "cell_type": "code",
      "execution_count": 8,
      "id": "d1843e87",
      "metadata": {},
      "outputs": [
        {
          "data": {
            "text/plain": [
              "status           39918\n",
              "private pool    373004\n",
              "propertyType     34733\n",
              "street               2\n",
              "baths           106338\n",
              "homeFacts            0\n",
              "fireplace       274070\n",
              "city                34\n",
              "schools              0\n",
              "sqft             40577\n",
              "zipcode              0\n",
              "beds             91282\n",
              "state                0\n",
              "stories         150715\n",
              "mls-id          352243\n",
              "PrivatePool     336874\n",
              "MlsId            66880\n",
              "target            2481\n",
              "dtype: int64"
            ]
          },
          "execution_count": 8,
          "metadata": {},
          "output_type": "execute_result"
        }
      ],
      "source": [
        "data.isnull().sum()"
      ]
    },
    {
      "cell_type": "markdown",
      "id": "3a389928",
      "metadata": {},
      "source": [
        "Выводим описательные статистики признаков:"
      ]
    },
    {
      "cell_type": "code",
      "execution_count": 9,
      "id": "be92d123",
      "metadata": {},
      "outputs": [
        {
          "data": {
            "text/html": [
              "<div>\n",
              "<style scoped>\n",
              "    .dataframe tbody tr th:only-of-type {\n",
              "        vertical-align: middle;\n",
              "    }\n",
              "\n",
              "    .dataframe tbody tr th {\n",
              "        vertical-align: top;\n",
              "    }\n",
              "\n",
              "    .dataframe thead th {\n",
              "        text-align: right;\n",
              "    }\n",
              "</style>\n",
              "<table border=\"1\" class=\"dataframe\">\n",
              "  <thead>\n",
              "    <tr style=\"text-align: right;\">\n",
              "      <th></th>\n",
              "      <th>status</th>\n",
              "      <th>private pool</th>\n",
              "      <th>propertyType</th>\n",
              "      <th>street</th>\n",
              "      <th>baths</th>\n",
              "      <th>homeFacts</th>\n",
              "      <th>fireplace</th>\n",
              "      <th>city</th>\n",
              "      <th>schools</th>\n",
              "      <th>sqft</th>\n",
              "      <th>zipcode</th>\n",
              "      <th>beds</th>\n",
              "      <th>state</th>\n",
              "      <th>stories</th>\n",
              "      <th>mls-id</th>\n",
              "      <th>PrivatePool</th>\n",
              "      <th>MlsId</th>\n",
              "      <th>target</th>\n",
              "    </tr>\n",
              "  </thead>\n",
              "  <tbody>\n",
              "    <tr>\n",
              "      <th>count</th>\n",
              "      <td>337267</td>\n",
              "      <td>4181</td>\n",
              "      <td>342452</td>\n",
              "      <td>377183</td>\n",
              "      <td>270847</td>\n",
              "      <td>377185</td>\n",
              "      <td>103115</td>\n",
              "      <td>377151</td>\n",
              "      <td>377185</td>\n",
              "      <td>336608</td>\n",
              "      <td>377185</td>\n",
              "      <td>285903</td>\n",
              "      <td>377185</td>\n",
              "      <td>226470</td>\n",
              "      <td>24942</td>\n",
              "      <td>40311</td>\n",
              "      <td>310305</td>\n",
              "      <td>374704</td>\n",
              "    </tr>\n",
              "    <tr>\n",
              "      <th>unique</th>\n",
              "      <td>159</td>\n",
              "      <td>1</td>\n",
              "      <td>1280</td>\n",
              "      <td>337076</td>\n",
              "      <td>229</td>\n",
              "      <td>321009</td>\n",
              "      <td>1653</td>\n",
              "      <td>2026</td>\n",
              "      <td>297365</td>\n",
              "      <td>25405</td>\n",
              "      <td>4549</td>\n",
              "      <td>1184</td>\n",
              "      <td>39</td>\n",
              "      <td>348</td>\n",
              "      <td>24907</td>\n",
              "      <td>2</td>\n",
              "      <td>232944</td>\n",
              "      <td>43939</td>\n",
              "    </tr>\n",
              "    <tr>\n",
              "      <th>top</th>\n",
              "      <td>for sale</td>\n",
              "      <td>Yes</td>\n",
              "      <td>single-family home</td>\n",
              "      <td>Address Not Disclosed</td>\n",
              "      <td>2 Baths</td>\n",
              "      <td>{'atAGlanceFacts': [{'factValue': '', 'factLab...</td>\n",
              "      <td>yes</td>\n",
              "      <td>Houston</td>\n",
              "      <td>[{'rating': [], 'data': {'Distance': [], 'Grad...</td>\n",
              "      <td>0</td>\n",
              "      <td>32137</td>\n",
              "      <td>3 Beds</td>\n",
              "      <td>FL</td>\n",
              "      <td>1.0</td>\n",
              "      <td>No MLS#</td>\n",
              "      <td>yes</td>\n",
              "      <td>NO MLS</td>\n",
              "      <td>$225,000</td>\n",
              "    </tr>\n",
              "    <tr>\n",
              "      <th>freq</th>\n",
              "      <td>156104</td>\n",
              "      <td>4181</td>\n",
              "      <td>92206</td>\n",
              "      <td>672</td>\n",
              "      <td>52466</td>\n",
              "      <td>7174</td>\n",
              "      <td>50356</td>\n",
              "      <td>24442</td>\n",
              "      <td>4204</td>\n",
              "      <td>11854</td>\n",
              "      <td>2141</td>\n",
              "      <td>53459</td>\n",
              "      <td>115449</td>\n",
              "      <td>67454</td>\n",
              "      <td>3</td>\n",
              "      <td>28793</td>\n",
              "      <td>24</td>\n",
              "      <td>1462</td>\n",
              "    </tr>\n",
              "  </tbody>\n",
              "</table>\n",
              "</div>"
            ],
            "text/plain": [
              "          status private pool        propertyType                 street  \\\n",
              "count     337267         4181              342452                 377183   \n",
              "unique       159            1                1280                 337076   \n",
              "top     for sale          Yes  single-family home  Address Not Disclosed   \n",
              "freq      156104         4181               92206                    672   \n",
              "\n",
              "          baths                                          homeFacts fireplace  \\\n",
              "count    270847                                             377185    103115   \n",
              "unique      229                                             321009      1653   \n",
              "top     2 Baths  {'atAGlanceFacts': [{'factValue': '', 'factLab...       yes   \n",
              "freq      52466                                               7174     50356   \n",
              "\n",
              "           city                                            schools    sqft  \\\n",
              "count    377151                                             377185  336608   \n",
              "unique     2026                                             297365   25405   \n",
              "top     Houston  [{'rating': [], 'data': {'Distance': [], 'Grad...       0   \n",
              "freq      24442                                               4204   11854   \n",
              "\n",
              "       zipcode    beds   state stories   mls-id PrivatePool   MlsId    target  \n",
              "count   377185  285903  377185  226470    24942       40311  310305    374704  \n",
              "unique    4549    1184      39     348    24907           2  232944     43939  \n",
              "top      32137  3 Beds      FL     1.0  No MLS#         yes  NO MLS  $225,000  \n",
              "freq      2141   53459  115449   67454        3       28793      24      1462  "
            ]
          },
          "execution_count": 9,
          "metadata": {},
          "output_type": "execute_result"
        }
      ],
      "source": [
        "data.describe(include='object')"
      ]
    },
    {
      "cell_type": "markdown",
      "id": "52543092",
      "metadata": {},
      "source": [
        "Проверяем данные на наличие дубликатов и удаляем их:"
      ]
    },
    {
      "cell_type": "code",
      "execution_count": 10,
      "id": "06b77f61",
      "metadata": {},
      "outputs": [
        {
          "name": "stdout",
          "output_type": "stream",
          "text": [
            "Количество дубликатов: 50\n",
            "Размер таблицы после удаления дубликатов: (377135, 18)\n"
          ]
        }
      ],
      "source": [
        "print('Количество дубликатов: {}'.format(data[data.duplicated()].shape[0]))\n",
        "# Удаляем дубликаты:\n",
        "data = data.drop_duplicates()\n",
        "print('Размер таблицы после удаления дубликатов: {}'.format(data.shape))"
      ]
    },
    {
      "cell_type": "markdown",
      "id": "4d5000bb",
      "metadata": {},
      "source": [
        "Удаляем строки с попущенными значениями в целевом столбце:"
      ]
    },
    {
      "cell_type": "code",
      "execution_count": 11,
      "id": "4b83fa99",
      "metadata": {},
      "outputs": [
        {
          "name": "stdout",
          "output_type": "stream",
          "text": [
            "Количество строк: 374655\n"
          ]
        }
      ],
      "source": [
        "data.dropna(axis = 'index', subset = ['target'], inplace = True)\n",
        "print('Количество строк: {}'.format(data.shape[0]))"
      ]
    },
    {
      "cell_type": "markdown",
      "id": "3e8e1d41",
      "metadata": {},
      "source": [
        "### Подготовка данных (предобработка)"
      ]
    },
    {
      "cell_type": "markdown",
      "id": "a1e92f84",
      "metadata": {},
      "source": [
        "Преобразуем целевой столбец - убираем все не цифровые знаки и приводим к числовому типу"
      ]
    },
    {
      "cell_type": "code",
      "execution_count": 12,
      "id": "4870b485",
      "metadata": {},
      "outputs": [],
      "source": [
        "def get_target(arg):\n",
        "    arg = arg.replace(' ', '').replace(',' , '').replace('+', '').replace('$', '').replace('/', '')\n",
        "    arg = re.sub(r'[A-Za-z]', '', arg)\n",
        "    arg_list = arg.split('-')\n",
        "    target = arg_list[0]\n",
        "    return target\n",
        "data['target'] = data['target'].apply(get_target)\n",
        "data['target'] = data['target'].astype(float)"
      ]
    },
    {
      "cell_type": "markdown",
      "id": "c7d747f1",
      "metadata": {},
      "source": [
        "Преобразуем столбец с данными о статусе объекта недвижимости"
      ]
    },
    {
      "cell_type": "code",
      "execution_count": 13,
      "id": "07b89df7",
      "metadata": {},
      "outputs": [],
      "source": [
        "def get_status(arg):\n",
        "    # Создаём списки топ слов, остальные пометим как other \n",
        "    for_sale = ['for']\n",
        "    active = ['active', 'a', 'active/contingent']\n",
        "    fore_closure = ['foreclosure', 'auction', 'foreclosed', 'pre-foreclosure']\n",
        "    pending = ['p', 'pending']\n",
        "    contract = ['under', 'c']\n",
        "    new = ['new', 'n']\n",
        "    back_change = ['back','change']\n",
        "    rent = ['rent']\n",
        "    coming_soon = ['coming']\n",
        "    # Приведем все символы к нижнему регистру\n",
        "    # Разобьём на списки слов \n",
        "    splitted_st = arg.lower().split(' ')\n",
        "    for i in splitted_st:\n",
        "        if i in active:\n",
        "            return 'active'\n",
        "        elif i in for_sale:\n",
        "            return 'for sale'\n",
        "        elif i in fore_closure:\n",
        "            return 'foreclosure'\n",
        "        elif i in pending:\n",
        "            return 'pending'\n",
        "        elif i in new:\n",
        "            return 'new'\n",
        "        elif i in back_change:\n",
        "            return 'back changes'\n",
        "        elif i in rent:\n",
        "            return 'rent'\n",
        "        elif i in contract: \n",
        "            return 'contract'\n",
        "        elif i in coming_soon: \n",
        "            return 'coming soon'\n",
        "        else:\n",
        "            return 'other'\n",
        "#преобразовываем в строки и применяем функцию \n",
        "data['status'] = data['status'].astype(str).apply(get_status)"
      ]
    },
    {
      "cell_type": "markdown",
      "id": "2d080ae1",
      "metadata": {},
      "source": [
        "Преобразуем столбец с данными о типах жилища:"
      ]
    },
    {
      "cell_type": "code",
      "execution_count": 14,
      "id": "d011c704",
      "metadata": {},
      "outputs": [],
      "source": [
        "def get_type(arg):\n",
        "    #Возьмем 5 самых часто встречаемых типов, остальные пометим как Other\n",
        "    family_type_list = ['single-family home', 'Single Family', 'Single Family Home', \n",
        "                        'Detached', 'Tiny Home', 'Single Detached', 'SingleFamilyResidence', 'Single Detached, Traditional']\n",
        "    condo_type_list = ['Condo', 'condo', 'coop', 'Condo/Townhome', 'Cooperative', 'Condo/Townhome/Row Home/Co-Op']\n",
        "    land_list = ['lot/land', 'land']\n",
        "    multi_fam_list = ['multi-family', 'Multi Family', 'Multi-Family Home', 'Multiple Occupancy']\n",
        "    townhouse_list = ['townhouse', 'Townhouse', 'Townhome']\n",
        "    if arg is np.nan or arg is '':\n",
        "        return np.nan\n",
        "    else:\n",
        "        if arg in family_type_list:\n",
        "            arg = 'Single Family'\n",
        "        elif arg in condo_type_list:\n",
        "            arg = 'Condo'\n",
        "        elif arg in land_list:\n",
        "            arg = 'Land'\n",
        "        elif arg in multi_fam_list:\n",
        "            arg = 'Multi Family'\n",
        "        elif arg in townhouse_list:\n",
        "            arg = 'Townhouse'\n",
        "        else:\n",
        "            arg = 'Other'\n",
        "    return arg\n",
        "\n",
        "data['propertyType'] = data['propertyType'].apply(get_type)\n",
        "data['propertyType'] = data['propertyType'].fillna('Other')"
      ]
    },
    {
      "cell_type": "markdown",
      "id": "b1959a14",
      "metadata": {},
      "source": [
        "Получаем информацию об объекте недвижимости из столбца 'homeFacts'"
      ]
    },
    {
      "cell_type": "code",
      "execution_count": 15,
      "id": "bb945eab",
      "metadata": {},
      "outputs": [],
      "source": [
        "def get_lotsize_measure(home_facts_str):\n",
        "    if re.search(r\"acre['s]*\", home_facts_str):\n",
        "        return 'acre'\n",
        "    return None\n",
        "\n",
        "def process_home_facts(home_facts):\n",
        "    #Переводим строку в нижний регистр\n",
        "    home_facts = home_facts.lower()\n",
        "    # Удаляем запятые между цифрами\n",
        "    home_facts = re.sub(r'(\\d),(\\d)', r'\\1\\2', home_facts)\n",
        "    # Удаляем '$'\n",
        "    home_facts = home_facts.replace('$', '')\n",
        "    # Удаляем ' sqft', ' sq. ft.' и ' acres'\n",
        "    home_facts = home_facts.replace(' sqft', '')\n",
        "    home_facts = home_facts.replace('/sqft', '')\n",
        "    home_facts = home_facts.replace(' sq. ft.', '')\n",
        "    # Удаляем ' lot', ' acre' и 'contact manager'\n",
        "    home_facts = home_facts.replace(' lot', '')\n",
        "    home_facts = home_facts.replace(' acres', '')\n",
        "    home_facts = home_facts.replace(' acre', '')\n",
        "    home_facts = home_facts.replace('contact manager', '')\n",
        "    # Удаляем ' /', '—', '-' и 'no info' \n",
        "    home_facts = home_facts.replace('—', '')\n",
        "    home_facts = home_facts.replace('-', '')\n",
        "    home_facts = home_facts.replace(' /', '')\n",
        "    home_facts = home_facts.replace('no info', '')\n",
        "    return home_facts\n",
        "data['homeFacts'] = data['homeFacts'].apply(lambda x: str(x).lower())\n",
        "data['lotsize_measure'] = data['homeFacts'].apply(get_lotsize_measure)\n",
        "# Проходим циклом по все строкам столбца 'homeFacts'\n",
        "for i, row in data.iterrows():\n",
        "    home_facts = row['homeFacts']\n",
        "    home_facts = process_home_facts(home_facts)\n",
        "    data.at[i, 'homeFacts'] = home_facts\n",
        "# Задаем регулярное выражение для поиска пары ключ-значение\n",
        "pattern = r\"{'factvalue': '(.*?)', 'factlabel': '(.*?)'}\"\n",
        "# Проходим циклом по всем строкам столбца 'homeFacts'\n",
        "for i, row in data.iterrows():\n",
        "    home_facts_str = row['homeFacts']\n",
        "    #Находим пару ключ-значение\n",
        "    matches = re.finditer(pattern, home_facts_str)\n",
        "    home_facts = {}\n",
        "    for match in matches:\n",
        "        factvalue = match.group(1)\n",
        "        factlabel = match.group(2)\n",
        "        home_facts[factlabel] = factvalue\n",
        "    # Обновляем значение в столбце и переводим к типам:'year_built' и 'remodeled year' - int\n",
        "    year_built = home_facts.get('year built', None)\n",
        "    if year_built is None or year_built == 'no data' or year_built == '':\n",
        "        data.at[i, 'year built'] = None\n",
        "    else:\n",
        "        data.at[i, 'year built'] = int(year_built)\n",
        "    remodeled_year = home_facts.get('remodeled year', None)\n",
        "    if remodeled_year is None or remodeled_year == 'no data' or remodeled_year == '':\n",
        "        data.at[i, 'remodeled year'] = None\n",
        "    else:\n",
        "        data.at[i, 'remodeled year'] = int(remodeled_year)\n",
        "    # 'heating', 'cooling', 'parking' - str\n",
        "    data.at[i, 'heating'] = home_facts.get('heating', None)\n",
        "    data.at[i, 'cooling'] = home_facts.get('cooling', None)\n",
        "    data.at[i, 'parking'] = home_facts.get('parking', None)\n",
        "    # 'lotsize', ' price' - float\n",
        "    lot_size = home_facts.get('lotsize', None)\n",
        "    if lot_size is None or lot_size == 'no data' or lot_size == '':\n",
        "        data.at[i, 'lotsize'] = None\n",
        "    else:\n",
        "        data.at[i, 'lotsize'] = float(lot_size)\n",
        "    price_sqft = home_facts.get('price', None)\n",
        "    if price_sqft is None or price_sqft == 'no data' or price_sqft == '':\n",
        "        data.at[i, 'price'] = None\n",
        "    else:\n",
        "        data.at[i, 'price'] = float(price_sqft)"
      ]
    },
    {
      "cell_type": "markdown",
      "id": "73c7dd61",
      "metadata": {},
      "source": [
        "Получаем информацио о школах в районе объекта недвижимости и добавляем столбцы со средним рейтингом и средним расстоянием до школы от объекта недвижимости:"
      ]
    },
    {
      "cell_type": "code",
      "execution_count": 16,
      "id": "1123147e",
      "metadata": {},
      "outputs": [],
      "source": [
        "data['schools'] = data['schools'].astype(str)\n",
        "data['schools_rating'] = data['schools'].apply(lambda x: re.sub(r'data.*', '', x))\n",
        "data['schools_rating'] = data['schools_rating'].apply(lambda x: re.sub(r'/10', '', x))\n",
        "data['schools_rating'] = data['schools_rating'].apply(lambda x: re.sub(r'[^\\w\\s,]', '', x))\n",
        "data['schools_rating'] = data['schools_rating'].apply(lambda x: x.replace('rating', ''))\n",
        "data['schools_rating'] = data['schools_rating'].apply(lambda x: x[:-2])\n",
        "data['schools_rating'] = data['schools_rating'].apply(lambda x: x[1:])\n",
        "# Создаем столбец 'school_count'\n",
        "data['school_count'] = data['schools_rating'].apply(lambda x: (len(x.split(','))) if x != '' else 0)\n",
        "data['school_count'] = data['school_count'].astype('int')\n",
        "# Удаляем все символы, кроме цифр\n",
        "data['schools_rating'] = data['schools_rating'].apply(lambda x: re.sub(r'[a-zA-Z]', '', x))\n",
        "data['schools_rating'] = data['schools_rating'].apply(lambda x: re.sub(r'\\s+,', '', x))\n",
        "data['schools_rating'] = data['schools_rating'].apply(lambda x: x[:-1])\n",
        "# Создаем столбец 'schools_rating_list'\n",
        "data['schools_rating_list'] = data['schools_rating'].apply(lambda x: [int(i) for i in re.findall(r'\\d+', x)])\n",
        "# Создаем столбец 'schools_rating_ave'\n",
        "data['schools_rating_ave'] = data['schools_rating_list'].apply(lambda x: round(sum(x) / len(x), 2) if len(x) > 0 else 0)\n",
        "data['schools_rating_ave'] = data['schools_rating_ave'].apply(np.round, decimals=2)\n",
        "average = data['schools_rating_ave'].mean()\n",
        "data['schools_rating_ave'] = data['schools_rating_ave'].apply(\n",
        "    lambda x: average if x < 1 else x\n",
        ")\n",
        "def extract_text(text):\n",
        "    pattern = r\"Distance': \\['(.+?)'\\], 'Grades'\"\n",
        "    match = re.search(pattern, text)\n",
        "    if match:\n",
        "        return match.group(1)\n",
        "    else:\n",
        "        return None\n",
        "\n",
        "data['schools_distance'] = data['schools'].apply(extract_text)\n",
        "data['schools_distance'] = data['schools_distance'].astype(str)\n",
        "data['schools_distance'] = data['schools_distance'].apply(lambda x: re.sub(r'\\smi', '', x))\n",
        "data['schools_distance'] = data['schools_distance'].str.replace(r'[^\\d.,\\s]', '', regex=True)\n",
        "data['schools_distance'] = data['schools_distance'].apply(lambda x: [float(num) for num in x.split(',')] if x else [])\n",
        "data['schools_distance_ave'] = data['schools_distance'].apply(lambda x: round(sum(x)/len(x), 2) if x else 0)"
      ]
    },
    {
      "cell_type": "markdown",
      "id": "b45ac8d2",
      "metadata": {},
      "source": [
        "Удаляем столбцы 'homeFact' и 'schools', вспомогательные столбцы для рассчета среднего рейтинга школы и среднего расстояния до школы. "
      ]
    },
    {
      "cell_type": "code",
      "execution_count": 17,
      "id": "717bc535",
      "metadata": {},
      "outputs": [],
      "source": [
        "data = data.drop(['homeFacts',\n",
        "                  'schools',\n",
        "                  'schools_rating_list',\n",
        "                  'schools_rating',\n",
        "                  'schools_distance'\n",
        "                  ],\n",
        "                 axis=1)"
      ]
    },
    {
      "cell_type": "markdown",
      "id": "3dfff1d4",
      "metadata": {},
      "source": [
        "Признак 'Год постройки' не очень информативен. Создадим новый признак - 'Возраст здания'& Вычисляем возраст здания на текцщий год"
      ]
    },
    {
      "cell_type": "code",
      "execution_count": 18,
      "id": "64904680",
      "metadata": {},
      "outputs": [],
      "source": [
        "#Получаем текущую дату.\n",
        "today = date.today()\n",
        "#Получаем текущий год\n",
        "this_year = today.year\n",
        "#Вычисляем возраст здания\n",
        "data['age_building'] = this_year - data['year built']\n",
        "#Избавляемся от некорректных значений - возраст здания должен быть больше или равен 0\n",
        "data = data[data['age_building'] >= 0]"
      ]
    },
    {
      "cell_type": "markdown",
      "id": "d585068d",
      "metadata": {},
      "source": [
        "Преобразуем столбец с данными о площади объекта недвижимости."
      ]
    },
    {
      "cell_type": "code",
      "execution_count": 19,
      "id": "ba2fe6e9",
      "metadata": {},
      "outputs": [],
      "source": [
        "def get_sqft(arg):\n",
        "        if isinstance(arg, float):\n",
        "            return arg\n",
        "        if arg is np.nan or arg in ['', 'no data', 'none'] :\n",
        "            return np.nan\n",
        "        if isinstance(arg, str):\n",
        "            sqft = re.sub(r'\\D', '', arg)\n",
        "            if sqft != '':\n",
        "                return sqft\n",
        "            else:\n",
        "                return np.nan\n",
        "data['sqft'] = data['sqft'].apply(get_sqft)\n",
        "data['sqft'] = data['sqft'].astype(float)"
      ]
    },
    {
      "cell_type": "markdown",
      "id": "ea726271",
      "metadata": {},
      "source": [
        "Столбцы 'PrivatePool' и 'private pool' содержат информацию о наличии частного бассейна, но информация в них не совпадает. Преобразуем данные в обоих столбцах к виду 1 - бассейн есть, 0 - бассейна нет и объединяем оба столбца в один столбец 'Pool'"
      ]
    },
    {
      "cell_type": "code",
      "execution_count": 20,
      "id": "81b247af",
      "metadata": {},
      "outputs": [],
      "source": [
        "data['PrivatePool'] = data['PrivatePool'].apply(lambda x: 1 if x == 'Yes' or x == 'yes' else 0)\n",
        "data['private pool'] = data['private pool'].apply(lambda x: 1 if x == 'Yes' else 0)\n",
        "data['Pool'] = data.apply(lambda x: (max(x['PrivatePool'], x['private pool'])), axis = 1)"
      ]
    },
    {
      "cell_type": "markdown",
      "id": "37b04567",
      "metadata": {},
      "source": [
        "Удаляем столбцы 'PrivatePool' и 'private pool' "
      ]
    },
    {
      "cell_type": "code",
      "execution_count": 21,
      "id": "1ff3c962",
      "metadata": {},
      "outputs": [],
      "source": [
        "data = data.drop(['private pool','PrivatePool'], axis = 1)"
      ]
    },
    {
      "cell_type": "markdown",
      "id": "c660caec",
      "metadata": {},
      "source": [
        "Преобразуем столбецы 'fireplace', 'cooling', 'heating' и 'parking': 1 - если есть данные в столбце, 0 - если данных нет "
      ]
    },
    {
      "cell_type": "code",
      "execution_count": 22,
      "id": "b7c82078",
      "metadata": {},
      "outputs": [],
      "source": [
        "no_data_list = ['', 'no data', 'none', 'Not Applicable', 'No', ' ']\n",
        "data['fireplace'] = data['fireplace'].apply(lambda x: 0 if x is np.nan or x in no_data_list  else 1)\n",
        "data['cooling'] = data['cooling'].apply(lambda x: 0 if x is np.nan or x in no_data_list else 1)\n",
        "data['heating'] = data['heating'].apply(lambda x: 0 if x is np.nan or x in no_data_list  else 1)\n",
        "data['parking'] = data['parking'].apply(lambda x: 0 if x is np.nan or x in no_data_list  else 1)"
      ]
    },
    {
      "cell_type": "markdown",
      "id": "aa546338",
      "metadata": {},
      "source": [
        "Преобразуем столбец с данными о количестве ванных комнат"
      ]
    },
    {
      "cell_type": "code",
      "execution_count": 23,
      "id": "4d006855",
      "metadata": {},
      "outputs": [],
      "source": [
        "def get_bath(arg):\n",
        "    if isinstance(arg, float):\n",
        "        return arg\n",
        "    if arg is np.nan or arg is '' or arg is '—' or arg is 'no data' or arg is 'none':\n",
        "        return np.nan\n",
        "    if isinstance(arg, str):\n",
        "        arg = arg.replace(' ', '').replace(',' , '.').replace('+', '').replace('~', '').replace(':', '')\n",
        "        bath = re.sub(r'[A-Za-z]', '', arg)\n",
        "        bath = bath.replace('..', '')\n",
        "        bath_list = bath.split('-')\n",
        "        bath = bath_list[0]\n",
        "        bath = bath.replace('—', '')\n",
        "        bath_list_1 = bath.split('/')\n",
        "        bath = bath_list_1[0]\n",
        "        if bath != '':\n",
        "            return bath\n",
        "        else:\n",
        "            return np.nan\n",
        "data['baths'] = data['baths'].apply(get_bath)\n",
        "data['baths'] = data['baths'].astype(float)"
      ]
    },
    {
      "cell_type": "markdown",
      "id": "ba0de33f",
      "metadata": {},
      "source": [
        "Преобразуем столбец с данными о кличестве спален"
      ]
    },
    {
      "cell_type": "code",
      "execution_count": 24,
      "id": "556e1f39",
      "metadata": {},
      "outputs": [],
      "source": [
        "def get_beds(arg):\n",
        "    if isinstance(arg, float):\n",
        "        return arg\n",
        "    if arg is np.nan or arg is '' or arg is '—' or arg is 'no data' or arg is 'none':\n",
        "        return np.nan\n",
        "    if isinstance(arg, str):\n",
        "        if (re.search(r'acre|acres|sqft|\\$', arg)) is None:\n",
        "            beds = re.sub(r'[A-Za-z:+~#]', '', arg)\n",
        "            beds = beds.replace(' ', '')\n",
        "            beds_list = beds.split(',')\n",
        "            beds = beds_list[0]\n",
        "            beds_list_1 = beds.split('-')\n",
        "            beds = beds_list_1[0]\n",
        "            if beds != '':\n",
        "                return beds\n",
        "            else:\n",
        "                return np.nan\n",
        "        else:\n",
        "            return np.nan            \n",
        "data['beds'] = data['beds'].apply(get_beds)\n",
        "data['beds'] = data['beds'].astype(float)"
      ]
    },
    {
      "cell_type": "markdown",
      "id": "0cb4117d",
      "metadata": {},
      "source": [
        "Проверяем столбцы на наличие одинаковых значений"
      ]
    },
    {
      "cell_type": "code",
      "execution_count": 25,
      "id": "de8bf27a",
      "metadata": {},
      "outputs": [
        {
          "name": "stdout",
          "output_type": "stream",
          "text": [
            "mls-id: 99.87% уникальных значений\n",
            "lotsize_measure: 100.0% одинаковых значений\n"
          ]
        }
      ],
      "source": [
        "low_information_cols = [] \n",
        "\n",
        "#цикл по всем столбцам\n",
        "for col in data.columns:\n",
        "    #наибольшая относительная частота в признаке\n",
        "    top_freq = data[col].value_counts(normalize=True).max()\n",
        "    #доля уникальных значений от размера признака\n",
        "    nunique_ratio = data[col].nunique() / data[col].count()\n",
        "    # сравниваем наибольшую частоту с порогом\n",
        "    if top_freq > 0.95:\n",
        "        low_information_cols.append(col)\n",
        "        print(f'{col}: {round(top_freq*100, 2)}% одинаковых значений')\n",
        "    # сравниваем долю уникальных значений с порогом\n",
        "    if nunique_ratio > 0.95:\n",
        "        low_information_cols.append(col)\n",
        "        print(f'{col}: {round(nunique_ratio*100, 2)}% уникальных значений')"
      ]
    },
    {
      "cell_type": "markdown",
      "id": "91e3acf3",
      "metadata": {},
      "source": [
        "Удаляем столбец 'lotsize_measure' - в нем все значения одинаковые. Столбцы 'mls-id' и 'MlsID' являются уникальными для каждого объекта недвижимости, не имеют никакого значения для предсказания стоимости объекта недвижимости, поэтому их также удаляем."
      ]
    },
    {
      "cell_type": "code",
      "execution_count": 26,
      "id": "83ffa3b7",
      "metadata": {},
      "outputs": [
        {
          "name": "stdout",
          "output_type": "stream",
          "text": [
            "Результирующее число признаков: 24\n"
          ]
        }
      ],
      "source": [
        "data = data.drop(['lotsize_measure',\n",
        "                'mls-id',\n",
        "                'MlsId'\n",
        "                ]\n",
        "                , axis=1)\n",
        "print(f'Результирующее число признаков: {data.shape[1]}')"
      ]
    },
    {
      "cell_type": "markdown",
      "id": "171b393d",
      "metadata": {},
      "source": [
        "Удаляем ненужные столбцы:"
      ]
    },
    {
      "cell_type": "code",
      "execution_count": 27,
      "id": "7c97e28f",
      "metadata": {},
      "outputs": [],
      "source": [
        "data = data.drop(['zipcode', \n",
        "                  'street',\n",
        "                  'city',\n",
        "                  'year built'\n",
        "                  ],\n",
        "                 axis=1)"
      ]
    },
    {
      "cell_type": "markdown",
      "id": "7bdbdf5a",
      "metadata": {},
      "source": [
        "Заполняем пропуски в данных медианными значениями:"
      ]
    },
    {
      "cell_type": "code",
      "execution_count": 28,
      "id": "26a80621",
      "metadata": {},
      "outputs": [],
      "source": [
        "#создаем словарь имя столбца: число(признак) на который надо заменить пропуски\n",
        "values = {\n",
        "    'baths': data['baths'].median(),\n",
        "    'sqft': data['sqft'].median(),\n",
        "    'beds': data['beds'].median(),\n",
        "    'age_building': data['age_building'].median()\n",
        "}\n",
        "#заполняем пропуски в соответствии с заявленным словарем\n",
        "data = data.fillna(values)"
      ]
    },
    {
      "cell_type": "markdown",
      "id": "f9a0fef6",
      "metadata": {},
      "source": [
        "Удаляем столбцы, в которых более 30% пропусков и строки, в которых есть хотя бы один пропуск."
      ]
    },
    {
      "cell_type": "code",
      "execution_count": 29,
      "id": "be8b4fd6",
      "metadata": {},
      "outputs": [
        {
          "name": "stdout",
          "output_type": "stream",
          "text": [
            "Размер таблицы: (228389, 18)\n"
          ]
        }
      ],
      "source": [
        "#задаем минимальный порог: вычисляем 70% от числа строк\n",
        "thresh = data.shape[0]*0.7\n",
        "#удаляем столбцы, в которых более 30% (100-70) пропусков\n",
        "data = data.dropna(thresh=thresh, axis=1)\n",
        "data = data.dropna(how='any')\n",
        "print('Размер таблицы: {}'.format(data.shape))"
      ]
    },
    {
      "cell_type": "markdown",
      "id": "ef034a90",
      "metadata": {},
      "source": [
        "### Исследование данных"
      ]
    },
    {
      "cell_type": "markdown",
      "id": "fbcd510c",
      "metadata": {},
      "source": [
        "Произведем исследование логарифмированных распределений на наличие выбросов с помощью метода z-отклонений.\n",
        "\n",
        "Построим график распределения целевой переменной и признака, отвечающего за площадь объекта в обычном и логарифмическом масштабе."
      ]
    },
    {
      "cell_type": "code",
      "execution_count": 30,
      "id": "5051200d",
      "metadata": {},
      "outputs": [
        {
          "data": {
            "image/png": "[encoded data removed]",
            "text/plain": [
              "<Figure size 1200x400 with 2 Axes>"
            ]
          },
          "metadata": {},
          "output_type": "display_data"
        }
      ],
      "source": [
        "fig, axes = plt.subplots(1, 2, figsize=(12, 4))\n",
        "sns.histplot(data['target'], kde=True, ax=axes[0])\n",
        "axes[0].set(xlabel='Стоимость объекта недижимости', ylabel='Частота')\n",
        "axes[0].set_title('Распределение стоимости всех объектов недвижимости')\n",
        "axes[0].axvline(data['target'].mean(), color='red', linestyle='--', linewidth=0.8)\n",
        "log_target = np.log(data['target'])\n",
        "#Строим гистограмму в логарифмическом масштабе\n",
        "sns.histplot(data=log_target, ax=axes[1]);\n",
        "#Добавляем вертикальные линии для среднего и 3ех стандартных отклонений влево и вправо от среднего\n",
        "axes[1].set(xlabel='Стоимость объекта недижимости', ylabel='Частота')\n",
        "axes[1].axvline(log_target.mean(), color='red', lw=2)\n",
        "axes[1].axvline(log_target.mean()+ 3 *log_target.std(),\n",
        "                color='red', ls='--', lw=2)\n",
        "axes[1].axvline(log_target.mean()- 3 *log_target.std(),\n",
        "                color='red', ls='--', lw=2);"
      ]
    },
    {
      "cell_type": "code",
      "execution_count": 31,
      "id": "95c716e1",
      "metadata": {},
      "outputs": [
        {
          "data": {
            "image/png": "[encoded data removed]",
            "text/plain": [
              "<Figure size 1200x400 with 2 Axes>"
            ]
          },
          "metadata": {},
          "output_type": "display_data"
        }
      ],
      "source": [
        "fig, axes = plt.subplots(1,2, figsize=(12, 4))\n",
        "sns.histplot(data['sqft'], bins=70, kde=True, ax=axes[0])\n",
        "axes[0].set(xlabel='Площадь объекта недижимости', ylabel='Частота')\n",
        "axes[0].set_title('Распределение площади всех объектов недвижимости')\n",
        "axes[0].axvline(data['sqft'].mean(), color='red', linestyle='--', linewidth=0.8)\n",
        "log_sqft = np.log(data['sqft'])\n",
        "#Строим гистограмму в логарифмическом масштабе\n",
        "sns.histplot(data=log_sqft, bins=100, ax=axes[1]);\n",
        "#Добавляем вертикальные линии для среднего и 3ех стандартных отклонений влево и вправо от среднего\n",
        "axes[1].set(xlabel='Площадь объекта недижимости', ylabel='Частота')\n",
        "axes[1].axvline(log_sqft.mean(), color='red', lw=2)\n",
        "axes[1].axvline(log_sqft.mean()+ 3 *log_sqft.std(),\n",
        "                color='red', ls='--', lw=2)\n",
        "axes[1].axvline(log_sqft.mean()- 3 *log_sqft.std(),\n",
        "                color='red', ls='--', lw=2);"
      ]
    },
    {
      "cell_type": "markdown",
      "id": "d13b4f41",
      "metadata": {},
      "source": [
        "Из графиков можно сделать вывод, что целевой признак и признак, отвечающий за площадь обекта не распределены нормально. Подтвердим визуальный вывод, проведя тест Шапиро-Уилка"
      ]
    },
    {
      "cell_type": "markdown",
      "id": "81254a62",
      "metadata": {},
      "source": [
        "*Нулевая гипотеза* ($H_0$): распределение данных является нормальным.\n",
        "\n",
        "*Альтернативная гипотеза* ($H_1$): распределение данных отлично от нормального."
      ]
    },
    {
      "cell_type": "code",
      "execution_count": 32,
      "id": "f4c31e89",
      "metadata": {},
      "outputs": [
        {
          "name": "stdout",
          "output_type": "stream",
          "text": [
            "Уровень значимости alpha = 0.05\n",
            "Целевой признак:\n",
            "p-value = 0.000\n",
            "p-значение меньше, чем заданный уровень значимости 0.05. Распределение отлично от нормального\n",
            "Признак 'sqft':\n",
            "p-value = 0.000\n",
            "p-значение меньше, чем заданный уровень значимости 0.05. Распределение отлично от нормального\n"
          ]
        }
      ],
      "source": [
        "# функция для принятия решения о нормальности\n",
        "def decision_normality(p):\n",
        "    print('p-value = {:.3f}'.format(p))\n",
        "    if p <= alpha:\n",
        "        print('p-значение меньше, чем заданный уровень значимости {:.2f}. Распределение отлично от нормального'.format(alpha))\n",
        "    else:\n",
        "        print('p-значение больше, чем заданный уровень значимости {:.2f}. Распределение является нормальным'.format(alpha))\n",
        "\n",
        "\n",
        "# функция для принятия решения об отклонении нулевой гипотезы\n",
        "def decision_hypothesis(p):\n",
        "    print('p-value = {:.3f}'.format(p))\n",
        "    if p <= alpha:\n",
        "        print('p-значение меньше, чем заданный уровень значимости {:.2f}. Отвергаем нулевую гипотезу в пользу альтернативной.'.format(alpha))\n",
        "    else:\n",
        "        print('p-значение больше, чем заданный уровень значимости {:.2f}. У нас нет оснований отвергнуть нулевую гипотезу.'.format(alpha))\n",
        "      \n",
        "target = data['target']\n",
        "sqft = data['sqft']\n",
        "# задаём уровень значимости\n",
        "alpha = 0.05 \n",
        "print(\"Уровень значимости alpha = {:.2f}\".format(alpha))\n",
        "# проводим тест Шапиро-Уилка\n",
        "\n",
        "print('Целевой признак:')\n",
        "result_target = stats.shapiro(target)\n",
        "decision_normality(result_target[1])\n",
        "\n",
        "print(\"Признак 'sqft':\")\n",
        "result_sqft = stats.shapiro(sqft)\n",
        "decision_normality(result_sqft[1])"
      ]
    },
    {
      "cell_type": "markdown",
      "id": "ce683333",
      "metadata": {},
      "source": [
        "Проверим гипотезу о том, что стоимость недвижимости с камином больше, чем стоимость недвижимости без него.\n",
        "\n",
        "**Сформулируем нулевую и альтернативные гипотезы**\n",
        "\n",
        "*Нулевая гипотеза* ($H_0$): стоимость дома с камином ($μ_1$) статистически меньше либо равен стоимости дома без камина ($μ_2$).\n",
        "\n",
        "$$ H_0 : μ_1 <= μ_2$$\n",
        "\n",
        "*Альтернативная гипотеза* ($H_1$): стоимость дома с камином ($μ_1$) статистически больше, чем стоимость дома без камина ($μ_2$).\n",
        "\n",
        "$$ H_1 : μ_1 > μ_2$$"
      ]
    },
    {
      "cell_type": "code",
      "execution_count": 33,
      "id": "7923ac35",
      "metadata": {},
      "outputs": [
        {
          "name": "stdout",
          "output_type": "stream",
          "text": [
            "С камином:\n",
            "p-value = 0.000\n",
            "p-значение меньше, чем заданный уровень значимости 0.05. Распределение отлично от нормального\n",
            "Без камина:\n",
            "p-value = 0.000\n",
            "p-значение меньше, чем заданный уровень значимости 0.05. Распределение отлично от нормального\n"
          ]
        }
      ],
      "source": [
        "# стоимость\n",
        "target_fireplace = data.loc[data['fireplace']==1, 'target']\n",
        "target_nofirepace = data.loc[data['fireplace']==0, 'target']\n",
        "\n",
        "target_fireplace\n",
        "# проводим тест Шапиро-Уилка\n",
        "print('С камином:')\n",
        "result = stats.shapiro(target_fireplace)\n",
        "decision_normality(result[1])\n",
        "\n",
        "print('Без камина:')\n",
        "result = stats.shapiro(target_nofirepace)\n",
        "decision_normality(result[1])"
      ]
    },
    {
      "cell_type": "markdown",
      "id": "2a2efa5d",
      "metadata": {},
      "source": [
        "Выбираем подходящий статистический тест\n",
        "\n",
        "Для выбора нужного теста воспользуемся алгоритмом выбора теста. Для этого ответим на следующие вопросы:\n",
        "* Какой тип у признака «target»? — Количественный.\n",
        "* Сколько сравниваемых групп? — Две.\n",
        "* Группы зависимы? — Нет.\n",
        "* Признак распределён по нормальному закону? — Нет.\n",
        "\n",
        "Чтобы проверить нашу гипотезу, можно использовать U-критерий Манна — Уитни для сравнения распределений на основе рангов."
      ]
    },
    {
      "cell_type": "code",
      "execution_count": 34,
      "id": "8a4ec698",
      "metadata": {},
      "outputs": [
        {
          "name": "stdout",
          "output_type": "stream",
          "text": [
            "p-value = 0.000\n",
            "p-значение меньше, чем заданный уровень значимости 0.05. Отвергаем нулевую гипотезу в пользу альтернативной.\n"
          ]
        }
      ],
      "source": [
        "# проводим тест\n",
        "_, p = stats.mannwhitneyu(target_fireplace, target_nofirepace, alternative='greater')\n",
        "decision_hypothesis(p)"
      ]
    },
    {
      "cell_type": "markdown",
      "id": "e635dfd4",
      "metadata": {},
      "source": [
        "**Вывод**\n",
        "\n",
        "Стоимость дома с камином больше, чем дома без камина"
      ]
    },
    {
      "cell_type": "markdown",
      "id": "8db62759",
      "metadata": {},
      "source": [
        "Проверим гипотезу о том, что стоимость недвижимости с бассейном, чем стоимость недвижимости без него.\n",
        "\n",
        "**Сформулируем нулевую и альтернативные гипотезы**\n",
        "\n",
        "*Нулевая гипотеза* ($H_0$): стоимость дома с бассейном ($μ_1$) статистически меньше либо равен стоимости дома без бассейна ($μ_2$).\n",
        "\n",
        "$$ H_0 : μ_1 <= μ_2$$\n",
        "\n",
        "*Альтернативная гипотеза* ($H_1$): стоимость дома с бассейном ($μ_1$) статистически больше, чем стоимость дома без бассейна ($μ_2$).\n",
        "\n",
        "$$ H_1 : μ_1 > μ_2$$"
      ]
    },
    {
      "cell_type": "markdown",
      "id": "64d1466b",
      "metadata": {},
      "source": [
        "\n",
        "С помощью теста Шапиро-Уилка проверим, распределён ли признак нормально.\n",
        "\n",
        "*Нулевая гипотеза* ($H_0$): распределение данные является нормальным.\n",
        "\n",
        "*Альтернативная гипотеза* ($H_1$): распределение данных отлично от нормального."
      ]
    },
    {
      "cell_type": "code",
      "execution_count": 35,
      "id": "e992efe9",
      "metadata": {},
      "outputs": [
        {
          "name": "stdout",
          "output_type": "stream",
          "text": [
            "С бассейном:\n",
            "p-value = 0.000\n",
            "p-значение меньше, чем заданный уровень значимости 0.05. Распределение отлично от нормального\n",
            "Без бассейна:\n",
            "p-value = 0.000\n",
            "p-значение меньше, чем заданный уровень значимости 0.05. Распределение отлично от нормального\n"
          ]
        }
      ],
      "source": [
        "# стоимость\n",
        "target_pool = data.loc[data['Pool']==1, 'target']\n",
        "target_nopool = data.loc[data['Pool']==0, 'target']\n",
        "\n",
        "# проводим тест Шапиро-Уилка\n",
        "print('С бассейном:')\n",
        "result = stats.shapiro(target_pool)\n",
        "decision_normality(result[1])\n",
        "\n",
        "print('Без бассейна:')\n",
        "result = stats.shapiro(target_nopool)\n",
        "decision_normality(result[1])"
      ]
    },
    {
      "cell_type": "markdown",
      "id": "8aaee2f3",
      "metadata": {},
      "source": [
        "Для выбора нужного теста воспользуемся алгоритмом выбора теста. Для этого ответим на следующие вопросы:\n",
        "* Какой тип у признака «target»? — Количественный.\n",
        "* Сколько сравниваемых групп? — Две.\n",
        "* Группы зависимы? — Нет.\n",
        "* Признак распределён по нормальному закону? — Нет.\n",
        "\n",
        "Чтобы проверить нашу гипотезу, можно использовать U-критерий Манна — Уитни для сравнения распределений на основе рангов."
      ]
    },
    {
      "cell_type": "code",
      "execution_count": 36,
      "id": "4ca3fd86",
      "metadata": {},
      "outputs": [
        {
          "name": "stdout",
          "output_type": "stream",
          "text": [
            "p-value = 0.000\n",
            "p-значение меньше, чем заданный уровень значимости 0.05. Отвергаем нулевую гипотезу в пользу альтернативной.\n"
          ]
        }
      ],
      "source": [
        "# проводим тест\n",
        "_, p = stats.mannwhitneyu(target_pool, target_nopool, alternative='greater')\n",
        "decision_hypothesis(p)"
      ]
    },
    {
      "cell_type": "markdown",
      "id": "de9b3477",
      "metadata": {},
      "source": [
        "**Вывод**\n",
        "\n",
        "Стоимость дома с бассейном больше, чем дома без бассейна"
      ]
    },
    {
      "cell_type": "markdown",
      "id": "01b4b4eb",
      "metadata": {},
      "source": [
        "Очистим данные от выбросов с помощью метода 3-х сигм:"
      ]
    },
    {
      "cell_type": "code",
      "execution_count": 37,
      "id": "0ed7f1ad",
      "metadata": {},
      "outputs": [
        {
          "name": "stdout",
          "output_type": "stream",
          "text": [
            "Результирующее число записей: 224104\n"
          ]
        }
      ],
      "source": [
        "def outliers_z_score_mod(data, feature, log_scale=False, left=3, right=3):\n",
        "    if log_scale:\n",
        "        x = np.log(data[feature]+1)\n",
        "    else:\n",
        "        x = data[feature]\n",
        "    mu = x.mean()\n",
        "    sigma = x.std()\n",
        "    lower_bound = mu - left * sigma\n",
        "    upper_bound = mu + right * sigma\n",
        "    data = data[(x > lower_bound) & (x < upper_bound)]\n",
        "    return data\n",
        "data = outliers_z_score_mod(data, 'target', log_scale=True)\n",
        "data = outliers_z_score_mod(data, 'sqft', log_scale=True)\n",
        "print(f'Результирующее число записей: {data.shape[0]}')"
      ]
    },
    {
      "cell_type": "markdown",
      "id": "ff3672d8",
      "metadata": {},
      "source": [
        "## Визуализации ##"
      ]
    },
    {
      "cell_type": "markdown",
      "id": "c5cac693",
      "metadata": {},
      "source": [
        "### 1. Построим график распределения объектов по типам."
      ]
    },
    {
      "cell_type": "code",
      "execution_count": 38,
      "id": "effd4c00",
      "metadata": {},
      "outputs": [
        {
          "data": {
            "image/png": "[encoded data removed]",
            "text/plain": [
              "<Figure size 1200x600 with 1 Axes>"
            ]
          },
          "metadata": {},
          "output_type": "display_data"
        }
      ],
      "source": [
        "fig = plt.figure(figsize=(12, 6))\n",
        "ax = fig.add_axes((1, 1, 1, 1))\n",
        "data_1 = data['propertyType'].value_counts().sort_values(ascending=False)\n",
        "pie = ax.pie(\n",
        "    data_1,\n",
        "    labels=data_1.index,\n",
        "    autopct='%1.1f%%',\n",
        "    startangle=90\n",
        ")\n",
        "title = ax.set_title('Соотношение объектов недвижимости по типам', fontsize=16)\n",
        "plt.show(pie)"
      ]
    },
    {
      "cell_type": "markdown",
      "id": "3fdd7a3e",
      "metadata": {},
      "source": [
        "Из графика можно сдлеать вывод, что основную долю недвижимости занимают дома/квартиры \"Для одной семьи\""
      ]
    },
    {
      "cell_type": "markdown",
      "id": "304e5ff6",
      "metadata": {},
      "source": [
        "### 2. Построим график, показывающий наличие камина в доме/квартире по типам."
      ]
    },
    {
      "cell_type": "code",
      "execution_count": 39,
      "id": "b2290da3",
      "metadata": {},
      "outputs": [
        {
          "data": {
            "image/png": "[encoded data removed]",
            "text/plain": [
              "<Figure size 640x480 with 1 Axes>"
            ]
          },
          "metadata": {},
          "output_type": "display_data"
        }
      ],
      "source": [
        "ax = sns.countplot(data=data, x=data['propertyType'], hue='fireplace')\n",
        "ax.set(xlabel='Тип', ylabel='Количество')\n",
        "ax.xaxis.set_tick_params(rotation=90)\n",
        "plt.title('Соотношение домов с камином и без разного типа')\n",
        "ax.legend(['Без камина', 'С камином'])\n",
        "plt.show()"
      ]
    },
    {
      "cell_type": "markdown",
      "id": "2a8a471e",
      "metadata": {},
      "source": [
        "Из графика можно сделать вывод, что камины чаще всего встречаются в домах/квартирах \"Для одной семьи\""
      ]
    },
    {
      "cell_type": "markdown",
      "id": "2661bb5e",
      "metadata": {},
      "source": [
        "### 3. Построим график, отображающий стоимость жтлья в зависимости от типа."
      ]
    },
    {
      "cell_type": "code",
      "execution_count": 40,
      "id": "e2ba1179",
      "metadata": {},
      "outputs": [
        {
          "data": {
            "image/png": "[encoded data removed]",
            "text/plain": [
              "<Figure size 1200x500 with 1 Axes>"
            ]
          },
          "metadata": {},
          "output_type": "display_data"
        }
      ],
      "source": [
        "fig, axes = plt.subplots(figsize=(12, 5))\n",
        "barplot1 = sns.barplot(\n",
        "    data=data,\n",
        "    x='propertyType',\n",
        "    y='target',\n",
        "    orient='v',\n",
        "    ax = axes,\n",
        ")\n",
        "barplot1.tick_params(axis='x', rotation=70);\n",
        "barplot1.set_title('Стоимость объектов по типам', fontsize=16);\n",
        "barplot1.set_xlabel('Тип', fontsize=14);\n",
        "barplot1.set_ylabel('Стоимость', fontsize=14);\n",
        "barplot1.grid()\n"
      ]
    },
    {
      "cell_type": "markdown",
      "id": "4bc77c20",
      "metadata": {},
      "source": [
        "Наибольшую суммарную стоимость имеют объекты \"многосемейные\" или многоквартирые дома. Хоть доля домов \"Для одной семьи\" и выше, но стоимость таких объектов получается ниже."
      ]
    },
    {
      "cell_type": "markdown",
      "id": "8ab57f06",
      "metadata": {},
      "source": [
        "### 4. Построим \"диаграмму с усами\", показывающую зависимость стоимости объекта недвижимости в зависимости от типа."
      ]
    },
    {
      "cell_type": "code",
      "execution_count": 41,
      "id": "fd073e1d",
      "metadata": {},
      "outputs": [
        {
          "data": {
            "image/png": "[encoded data removed]",
            "text/plain": [
              "<Figure size 640x480 with 1 Axes>"
            ]
          },
          "metadata": {},
          "output_type": "display_data"
        }
      ],
      "source": [
        "ax = sns.boxplot(data, x='target', y='propertyType', orient='h', medianprops={\"color\": \"red\", \"linestyle\": '--'})\n",
        "ax.set(xlabel='Стоимость', ylabel='Тип')\n",
        "plt.title('Распределение стоимости объекта недвижимости в зависимости от типа')\n",
        "plt.show()"
      ]
    },
    {
      "cell_type": "markdown",
      "id": "bb108ed4",
      "metadata": {},
      "source": [
        "Медианная стоимость у всех объектов недвижимости находится почти на огдном уровне, но наблюдается довольно сильный разброс значений."
      ]
    },
    {
      "cell_type": "markdown",
      "id": "1474b7b7",
      "metadata": {},
      "source": [
        "## ------------------ ##"
      ]
    },
    {
      "cell_type": "markdown",
      "id": "ca1d7b48",
      "metadata": {},
      "source": [
        "Выведем таблицу, показывающую средний возраст зданий по типам."
      ]
    },
    {
      "cell_type": "code",
      "execution_count": 42,
      "id": "00796126",
      "metadata": {},
      "outputs": [
        {
          "name": "stdout",
          "output_type": "stream",
          "text": [
            "Средний возраст объекта недвижимости по типам:\n"
          ]
        },
        {
          "data": {
            "text/plain": [
              "propertyType\n",
              "Townhouse        35.0\n",
              "Condo            38.0\n",
              "Single Family    39.0\n",
              "Other            40.0\n",
              "Land             72.0\n",
              "Multi Family     94.0\n",
              "Name: age_building, dtype: float64"
            ]
          },
          "execution_count": 42,
          "metadata": {},
          "output_type": "execute_result"
        }
      ],
      "source": [
        "data_age = data.groupby('propertyType')['age_building'].median().sort_values()\n",
        "print('Средний возраст объекта недвижимости по типам:')\n",
        "data_age"
      ]
    },
    {
      "cell_type": "markdown",
      "id": "13800712",
      "metadata": {},
      "source": [
        "Наиболее \"старые\" дома в нашем наборе данных - многоквартирные. "
      ]
    },
    {
      "cell_type": "markdown",
      "id": "8ab1eeb2",
      "metadata": {},
      "source": [
        "Построим матрицу корреляции, а также ее тепловую карту. "
      ]
    },
    {
      "cell_type": "code",
      "execution_count": 43,
      "id": "5cdd931c",
      "metadata": {},
      "outputs": [
        {
          "data": {
            "text/html": [
              "<div>\n",
              "<style scoped>\n",
              "    .dataframe tbody tr th:only-of-type {\n",
              "        vertical-align: middle;\n",
              "    }\n",
              "\n",
              "    .dataframe tbody tr th {\n",
              "        vertical-align: top;\n",
              "    }\n",
              "\n",
              "    .dataframe thead th {\n",
              "        text-align: right;\n",
              "    }\n",
              "</style>\n",
              "<table border=\"1\" class=\"dataframe\">\n",
              "  <thead>\n",
              "    <tr style=\"text-align: right;\">\n",
              "      <th></th>\n",
              "      <th>index</th>\n",
              "      <th>target</th>\n",
              "    </tr>\n",
              "  </thead>\n",
              "  <tbody>\n",
              "    <tr>\n",
              "      <th>4</th>\n",
              "      <td>target</td>\n",
              "      <td>1.000000</td>\n",
              "    </tr>\n",
              "    <tr>\n",
              "      <th>9</th>\n",
              "      <td>price</td>\n",
              "      <td>0.687813</td>\n",
              "    </tr>\n",
              "    <tr>\n",
              "      <th>2</th>\n",
              "      <td>sqft</td>\n",
              "      <td>0.610569</td>\n",
              "    </tr>\n",
              "    <tr>\n",
              "      <th>3</th>\n",
              "      <td>beds</td>\n",
              "      <td>0.323806</td>\n",
              "    </tr>\n",
              "    <tr>\n",
              "      <th>11</th>\n",
              "      <td>schools_rating_ave</td>\n",
              "      <td>0.258257</td>\n",
              "    </tr>\n",
              "    <tr>\n",
              "      <th>14</th>\n",
              "      <td>Pool</td>\n",
              "      <td>0.199003</td>\n",
              "    </tr>\n",
              "    <tr>\n",
              "      <th>1</th>\n",
              "      <td>fireplace</td>\n",
              "      <td>0.131763</td>\n",
              "    </tr>\n",
              "    <tr>\n",
              "      <th>7</th>\n",
              "      <td>parking</td>\n",
              "      <td>0.062548</td>\n",
              "    </tr>\n",
              "    <tr>\n",
              "      <th>0</th>\n",
              "      <td>baths</td>\n",
              "      <td>0.052717</td>\n",
              "    </tr>\n",
              "    <tr>\n",
              "      <th>12</th>\n",
              "      <td>schools_distance_ave</td>\n",
              "      <td>0.006989</td>\n",
              "    </tr>\n",
              "    <tr>\n",
              "      <th>8</th>\n",
              "      <td>lotsize</td>\n",
              "      <td>0.004740</td>\n",
              "    </tr>\n",
              "    <tr>\n",
              "      <th>6</th>\n",
              "      <td>cooling</td>\n",
              "      <td>-0.004860</td>\n",
              "    </tr>\n",
              "    <tr>\n",
              "      <th>13</th>\n",
              "      <td>age_building</td>\n",
              "      <td>-0.012186</td>\n",
              "    </tr>\n",
              "    <tr>\n",
              "      <th>10</th>\n",
              "      <td>school_count</td>\n",
              "      <td>-0.053918</td>\n",
              "    </tr>\n",
              "    <tr>\n",
              "      <th>5</th>\n",
              "      <td>heating</td>\n",
              "      <td>-0.062813</td>\n",
              "    </tr>\n",
              "  </tbody>\n",
              "</table>\n",
              "</div>"
            ],
            "text/plain": [
              "                   index    target\n",
              "4                 target  1.000000\n",
              "9                  price  0.687813\n",
              "2                   sqft  0.610569\n",
              "3                   beds  0.323806\n",
              "11    schools_rating_ave  0.258257\n",
              "14                  Pool  0.199003\n",
              "1              fireplace  0.131763\n",
              "7                parking  0.062548\n",
              "0                  baths  0.052717\n",
              "12  schools_distance_ave  0.006989\n",
              "8                lotsize  0.004740\n",
              "6                cooling -0.004860\n",
              "13          age_building -0.012186\n",
              "10          school_count -0.053918\n",
              "5                heating -0.062813"
            ]
          },
          "execution_count": 43,
          "metadata": {},
          "output_type": "execute_result"
        },
        {
          "data": {
            "image/png": "[encoded data removed]",
            "text/plain": [
              "<Figure size 640x480 with 2 Axes>"
            ]
          },
          "metadata": {},
          "output_type": "display_data"
        }
      ],
      "source": [
        "corr = data.corr()\n",
        "sns.heatmap(corr)\n",
        "new_corr = corr['target'].reset_index()\n",
        "sort_corr = new_corr.sort_values('target', ascending=False)\n",
        "sort_corr"
      ]
    },
    {
      "cell_type": "markdown",
      "id": "24b162c1",
      "metadata": {},
      "source": [
        "Кодируем категориальные признаки OneHot кодированием"
      ]
    },
    {
      "cell_type": "code",
      "execution_count": 44,
      "id": "328af37e",
      "metadata": {},
      "outputs": [],
      "source": [
        "columns_to_change = ['propertyType', 'state', 'status']\n",
        "encoder = pp.OneHotEncoder(drop='first') \n",
        "data_onehot = encoder.fit_transform(data[columns_to_change]).toarray()\n",
        "# Получаем закодированные имена столбцов\n",
        "column_names = encoder.get_feature_names_out()\n",
        "# Составляем DataFrame из закодированных признаков\n",
        "data_onehot = pd.DataFrame(data_onehot, columns=column_names)\n",
        "data = pd.concat(\n",
        "    [data.reset_index(drop=True).drop(columns_to_change, axis=1), data_onehot], \n",
        "    axis=1)"
      ]
    },
    {
      "cell_type": "markdown",
      "id": "d3c8447d",
      "metadata": {},
      "source": [
        "Разделим набор данных на матрицу наблюдений X (таблица из объектов и их признаков) и столбец правильных ответов y"
      ]
    },
    {
      "cell_type": "code",
      "execution_count": 45,
      "id": "895a7fd8",
      "metadata": {},
      "outputs": [],
      "source": [
        "X = data.drop(['target'], axis=1)\n",
        "y = data['target']"
      ]
    },
    {
      "cell_type": "markdown",
      "id": "03e460cb",
      "metadata": {},
      "source": [
        "Разделяем всю выборку на тренировочную и тестовую в соотношении 70/30.\n",
        "\n",
        "На тренировочной выборке будем обучать модели, а на тестовой проверять их качество. "
      ]
    },
    {
      "cell_type": "code",
      "execution_count": 46,
      "id": "124a1f49",
      "metadata": {},
      "outputs": [],
      "source": [
        "X_train, X_test, y_train, y_test = train_test_split(X, y, random_state = 42, test_size = 0.3)"
      ]
    },
    {
      "cell_type": "markdown",
      "id": "9bfa98d4",
      "metadata": {},
      "source": [
        "Предварительно нормализуем данные"
      ]
    },
    {
      "cell_type": "code",
      "execution_count": 47,
      "id": "39e20e66",
      "metadata": {},
      "outputs": [],
      "source": [
        "scaler = preprocessing.RobustScaler()\n",
        "scaler.fit(X_train)\n",
        "X_train_scaled = scaler.transform(X_train)\n",
        "X_test_scaled = scaler.transform(X_test)"
      ]
    },
    {
      "cell_type": "markdown",
      "id": "3df2d21b",
      "metadata": {},
      "source": [
        "### Моделирование + Оценка модели"
      ]
    },
    {
      "cell_type": "markdown",
      "id": "a4950e39",
      "metadata": {},
      "source": [
        "Цель- построить модель, решающую поставленную задачу и оценить ее качество"
      ]
    },
    {
      "cell_type": "markdown",
      "id": "a58f4616",
      "metadata": {},
      "source": [
        "Будем оценивать модель с помощью следующих метрик:\n",
        "\n",
        "1. $R^2$ - коэффициент детерминации  \n",
        "2. MAE - средняя абсолютная ошибка (целевая метрика)\n",
        "3. MAPE - средняя абсолютная ошибка в процентах"
      ]
    },
    {
      "cell_type": "code",
      "execution_count": 48,
      "id": "1aa333d3",
      "metadata": {},
      "outputs": [],
      "source": [
        "def print_metrics(y_train, y_train_predict, y_test, y_test_predict):\n",
        "    print('Train R^2: {:.3f}'.format(metrics.r2_score(y_train, y_train_predict)))\n",
        "    print('Train MAE: {:.3f}'.format(metrics.mean_absolute_error(y_train, y_train_predict)))\n",
        "    print('Train MAPE: {:.3f} %'.format(metrics.mean_absolute_percentage_error(y_train, y_train_predict)*100))\n",
        "    print('\\n')\n",
        "    print('Test R^2: {:.3f}'.format(metrics.r2_score(y_test, y_test_predict)))\n",
        "    print('Test MAE: {:.3f}'.format(metrics.mean_absolute_error(y_test, y_test_predict)))\n",
        "    print('Test MAPE: {:.3f} %'.format(metrics.mean_absolute_percentage_error(y_test, y_test_predict)*100))"
      ]
    },
    {
      "cell_type": "markdown",
      "id": "657f0dd1",
      "metadata": {},
      "source": [
        "**Модель линейной регрессии:**\n",
        "\n",
        "Модель линейной регрессии имеет следующий вид:\n",
        "$$\\widehat{y_i}= w_0+\\sum_{j=0}^m w_j x_{ij}$$\n",
        "где $x_{ij}$ — объект из $i$-ой строки и $j$-ого столбца из таблицы объектов-признак $X$, $y_i$ — правильный ответ, соответствующий $x_{i}$, $\\omega$ — параметры линейной регрессии"
      ]
    },
    {
      "cell_type": "markdown",
      "id": "db9cafd7",
      "metadata": {},
      "source": [
        "Для поиска параметров модели используется схема минизации эмпиричного риска - ищутся такие параметры $\\omega$, при которых функция ошибки $L(\\omega)$ была бы минимальна. \n",
        "\n",
        "В качестве функции потерь используем MSE - средний квадрат ошибки."
      ]
    },
    {
      "cell_type": "markdown",
      "id": "fb6980a5",
      "metadata": {},
      "source": [
        "$$L(\\omega) = MSE = \\frac{1}{n} * \\sum_{i=1}^{n}{(y_i - \\widehat{y_i})^2} \\Rightarrow min_\\omega $$"
      ]
    },
    {
      "cell_type": "markdown",
      "id": "de74a32b",
      "metadata": {},
      "source": [
        "**Аналитическое решение: метод наименьших квадратов (OLS):**"
      ]
    },
    {
      "cell_type": "markdown",
      "id": "743432f1",
      "metadata": {},
      "source": [
        "$$\\omega=(X^TX)^{-1}X^Ty$$"
      ]
    },
    {
      "cell_type": "code",
      "execution_count": 49,
      "id": "14025bf0",
      "metadata": {},
      "outputs": [
        {
          "name": "stdout",
          "output_type": "stream",
          "text": [
            "Train R^2: 0.796\n",
            "Train MAE: 156724.006\n",
            "Train MAPE: 56.376 %\n",
            "\n",
            "\n",
            "Test R^2: 0.805\n",
            "Test MAE: 157585.913\n",
            "Test MAPE: 56.741 %\n"
          ]
        }
      ],
      "source": [
        "#Инициализируем объект класса линейная регрессия\n",
        "lr = linear_model.LinearRegression()\n",
        "#Обучаем модель - ищем параметры\n",
        "lr.fit(X_train_scaled, y_train)\n",
        "#Делаем предсказание для каждой из выборок\n",
        "y_train_pred = lr.predict(X_train_scaled)\n",
        "y_test_pred = lr.predict(X_test_scaled)\n",
        "#Выводим результирующие метрики\n",
        "print_metrics(y_train, y_train_pred, y_test, y_test_pred)"
      ]
    },
    {
      "cell_type": "markdown",
      "id": "8c5bd628",
      "metadata": {},
      "source": [
        "Попробуем улучшить значения метрик."
      ]
    },
    {
      "cell_type": "markdown",
      "id": "8ef37432",
      "metadata": {},
      "source": [
        "Так как целевой признак не распределен нормально - попробуем перевести целевой признак в нормальное распределение с помощью логарифмирования"
      ]
    },
    {
      "cell_type": "code",
      "execution_count": 50,
      "id": "9e9d276b",
      "metadata": {},
      "outputs": [
        {
          "name": "stdout",
          "output_type": "stream",
          "text": [
            "Train R^2: -332039713613668864.000\n",
            "Train MAE: 1036426649450.343\n",
            "Train MAPE: 15943901.555 %\n",
            "\n",
            "\n",
            "Test R^2: -200050.355\n",
            "Test MAE: 1930332.192\n",
            "Test MAPE: 62.209 %\n"
          ]
        }
      ],
      "source": [
        "#Создаем логарифмированный целевой признак\n",
        "y_train_log = np.log(y_train)\n",
        "#Инициализируем объект класса линейная регрессия\n",
        "lr = linear_model.LinearRegression()\n",
        "#Обучаем модель - ищем параметры\n",
        "lr.fit(X_train_scaled, y_train_log)\n",
        "#Делаем предсказание для каждой из выборок\n",
        "## Так как обучали на логарифме, необходимо проэкспонировать\n",
        "y_train_pred = np.exp(lr.predict(X_train_scaled))\n",
        "y_test_pred = np.exp(lr.predict(X_test_scaled))\n",
        "#Выводим результирующие метрики\n",
        "print_metrics(y_train, y_train_pred, y_test, y_test_pred)"
      ]
    },
    {
      "cell_type": "markdown",
      "id": "8e9fe450",
      "metadata": {},
      "source": [
        "Используем дерево решений"
      ]
    },
    {
      "cell_type": "code",
      "execution_count": 51,
      "id": "a1a7cd96",
      "metadata": {},
      "outputs": [
        {
          "name": "stdout",
          "output_type": "stream",
          "text": [
            "Train R^2: 0.860\n",
            "Train MAE: 105908.090\n",
            "Train MAPE: 17.526 %\n",
            "\n",
            "\n",
            "Test R^2: 0.860\n",
            "Test MAE: 106767.577\n",
            "Test MAPE: 17.643 %\n"
          ]
        }
      ],
      "source": [
        "# Инициализируем модель дерева решений с максимальной глубиной 5 и обучаем ее\n",
        "dt = tree.DecisionTreeRegressor(\n",
        "    max_depth=5, #глубина\n",
        "    criterion='squared_error', #критерий информативности\n",
        "    random_state=42 #генератор случайных чисел\n",
        ")\n",
        "#Обучаем модель\n",
        "dt.fit(X_train_scaled, y_train_log)\n",
        "\n",
        "#Делаем предсказание для каждой из выборок\n",
        "## Так как обучали на логарифме, необходимо проэкспонировать\n",
        "y_train_pred = np.exp(dt.predict(X_train_scaled))\n",
        "y_test_pred = np.exp(dt.predict(X_test_scaled)) \n",
        "#Выводим результирующие метрики\n",
        "print_metrics(y_train, y_train_pred, y_test, y_test_pred)"
      ]
    },
    {
      "cell_type": "markdown",
      "id": "741b3ed3",
      "metadata": {},
      "source": [
        "Попробуем применить модель Случайного леса:"
      ]
    },
    {
      "cell_type": "code",
      "execution_count": 52,
      "id": "53c87efd",
      "metadata": {},
      "outputs": [
        {
          "name": "stdout",
          "output_type": "stream",
          "text": [
            "Train R^2: 0.998\n",
            "Train MAE: 9461.291\n",
            "Train MAPE: 1.655 %\n",
            "\n",
            "\n",
            "Test R^2: 0.997\n",
            "Test MAE: 10271.746\n",
            "Test MAPE: 1.759 %\n"
          ]
        }
      ],
      "source": [
        "# Создаем модель случайного леса из 10 деревьев с максимальной глубиной 10 для каждого дерева \n",
        "rf = ensemble.RandomForestRegressor(max_depth=10, n_estimators=10, random_state=42)\n",
        "# Обучаем модель\n",
        "rf.fit(X_train_scaled, y_train_log)\n",
        "#Делаем предсказание для каждой из выборок\n",
        "## Так как обучали на логарифме, необходимо проэкспонировать\n",
        "y_train_pred = np.exp(rf.predict(X_train_scaled))\n",
        "y_test_pred = np.exp(rf.predict(X_test_scaled))\n",
        "#Выводим результирующие метрики\n",
        "print_metrics(y_train, y_train_pred, y_test, y_test_pred)"
      ]
    },
    {
      "cell_type": "markdown",
      "id": "0e9922b2",
      "metadata": {},
      "source": [
        "Сделаем подбор оптимальных параметров с помощью RandomizeSearch"
      ]
    },
    {
      "cell_type": "code",
      "execution_count": 53,
      "id": "684a79d2",
      "metadata": {},
      "outputs": [
        {
          "name": "stdout",
          "output_type": "stream",
          "text": [
            "CPU times: user 24.1 s, sys: 434 ms, total: 24.6 s\n",
            "Wall time: 2min 52s\n",
            "Train R^2: 1.000\n",
            "Train MAE: 1533.682\n",
            "Train MAPE: 0.239 %\n",
            "\n",
            "\n",
            "Test R^2: 0.999\n",
            "Test MAE: 3451.111\n",
            "Test MAPE: 0.581 %\n",
            "Наилучшие значения гиперпараметров: {'n_estimators': 30, 'min_samples_leaf': 1, 'max_depth': 30}\n"
          ]
        }
      ],
      "source": [
        "param_distributions = {'n_estimators': list(range(10, 50, 5)),\n",
        "              'min_samples_leaf': list(range(1, 10, 1)),\n",
        "              'max_depth': list(np.linspace(10, 40, 10, dtype=int))\n",
        "              }\n",
        "            \n",
        "random_search_forest = RandomizedSearchCV(\n",
        "    estimator=ensemble.RandomForestRegressor(random_state=42), \n",
        "    param_distributions=param_distributions, \n",
        "    cv=5,\n",
        "    n_iter = 10, \n",
        "    n_jobs = -1\n",
        ")  \n",
        "%time random_search_forest.fit(X_train_scaled, y_train_log) \n",
        "\n",
        "#Делаем предсказание класса\n",
        "y_train_pred = np.exp(random_search_forest.predict(X_train_scaled))\n",
        "y_test_pred = np.exp(random_search_forest.predict(X_test_scaled))\n",
        "#Выводим результирующие метрики\n",
        "print_metrics(y_train, y_train_pred, y_test, y_test_pred)\n",
        "print(\"Наилучшие значения гиперпараметров: {}\".format(random_search_forest.best_params_))"
      ]
    },
    {
      "cell_type": "markdown",
      "id": "4f945b02",
      "metadata": {},
      "source": [
        "Постороим диаграмму значимости признаков"
      ]
    },
    {
      "cell_type": "code",
      "execution_count": 55,
      "id": "0db891b1",
      "metadata": {},
      "outputs": [
        {
          "data": {
            "text/plain": [
              "Text(0.5, 1.0, 'Bar plot feature importances')"
            ]
          },
          "execution_count": 55,
          "metadata": {},
          "output_type": "execute_result"
        },
        {
          "data": {
            "image/png": "[encoded data removed]",
            "text/plain": [
              "<Figure size 1300x500 with 1 Axes>"
            ]
          },
          "metadata": {},
          "output_type": "display_data"
        }
      ],
      "source": [
        "fig, ax = plt.subplots(figsize=(13, 5)) #фигура + координатная плоскость\n",
        "features = X.columns #признаки\n",
        "feature_importances = dt.feature_importances_ #важность признаков\n",
        "# Создаём DataFrame, содержащий информацию о важности признаков\n",
        "importances_data = pd.DataFrame({'features': features, 'importances': feature_importances})\n",
        "importances_data = importances_data.sort_values(by='importances', ascending=False)\n",
        "# Строим столбчатую диаграмму\n",
        "sns.barplot(data=importances_data[0:15], y='features', x='importances', ax=ax);\n",
        "# Добавляем подпись к графику и поворот меток на оси абсцисс\n",
        "ax.set_title('Bar plot feature importances')"
      ]
    },
    {
      "cell_type": "markdown",
      "id": "ee8c3cc5",
      "metadata": {},
      "source": [
        "Наибольшее влияние на результат оказывает признак 'price'. Это можно расценивать как утечку. Удалим данный признак."
      ]
    },
    {
      "cell_type": "code",
      "execution_count": 56,
      "id": "d941fc6c",
      "metadata": {},
      "outputs": [],
      "source": [
        "X = data.drop(['price','target'], axis=1)\n",
        "y = data['target']"
      ]
    },
    {
      "cell_type": "markdown",
      "id": "18e42038",
      "metadata": {},
      "source": [
        "Разделяем всю выборку на тренировочную и тестовую в соотношении 70/30."
      ]
    },
    {
      "cell_type": "code",
      "execution_count": 57,
      "id": "37f27ac9",
      "metadata": {},
      "outputs": [],
      "source": [
        "X_train, X_test, y_train, y_test = train_test_split(X, y, random_state = 42, test_size = 0.3)"
      ]
    },
    {
      "cell_type": "markdown",
      "id": "9fd50b57",
      "metadata": {},
      "source": [
        "Нормализуем данные и подбираем парметры с помощью RandomizeSearch"
      ]
    },
    {
      "cell_type": "code",
      "execution_count": 58,
      "id": "10bf1823",
      "metadata": {},
      "outputs": [
        {
          "name": "stdout",
          "output_type": "stream",
          "text": [
            "CPU times: user 20.9 s, sys: 329 ms, total: 21.2 s\n",
            "Wall time: 3min 27s\n",
            "Train R^2: 0.892\n",
            "Train MAE: 84366.274\n",
            "Train MAPE: 14.908 %\n",
            "\n",
            "\n",
            "Test R^2: 0.712\n",
            "Test MAE: 160108.138\n",
            "Test MAPE: 31.042 %\n",
            "Наилучшие значения гиперпараметров: {'n_estimators': 25, 'min_samples_leaf': 2, 'max_depth': 30}\n"
          ]
        }
      ],
      "source": [
        "scaler = preprocessing.RobustScaler()\n",
        "scaler.fit(X_train)\n",
        "X_train_scaled = scaler.transform(X_train)\n",
        "X_test_scaled = scaler.transform(X_test)\n",
        "param_distributions = {'n_estimators': list(range(10, 50, 5)),\n",
        "              'min_samples_leaf': list(range(1, 10, 1)),\n",
        "              'max_depth': list(np.linspace(10, 40, 10, dtype=int))\n",
        "              }\n",
        "            \n",
        "random_search_forest = RandomizedSearchCV(\n",
        "    estimator=ensemble.RandomForestRegressor(random_state=42), \n",
        "    param_distributions=param_distributions, \n",
        "    cv=5,\n",
        "    n_iter = 10, \n",
        "    n_jobs = -1\n",
        ")  \n",
        "%time random_search_forest.fit(X_train_scaled, y_train_log) \n",
        "\n",
        "#Делаем предсказание класса\n",
        "y_train_pred = np.exp(random_search_forest.predict(X_train_scaled))\n",
        "y_test_pred = np.exp(random_search_forest.predict(X_test_scaled))\n",
        "#Выводим результирующие метрики\n",
        "print_metrics(y_train, y_train_pred, y_test, y_test_pred)\n",
        "print(\"Наилучшие значения гиперпараметров: {}\".format(random_search_forest.best_params_))"
      ]
    },
    {
      "cell_type": "markdown",
      "id": "74391585",
      "metadata": {},
      "source": [
        "Произведем отбор признаков с помощью KBest. Отберем 30 признаков."
      ]
    },
    {
      "cell_type": "code",
      "execution_count": 59,
      "id": "f466de16",
      "metadata": {},
      "outputs": [
        {
          "name": "stdout",
          "output_type": "stream",
          "text": [
            "['fireplace' 'sqft' 'beds' 'heating' 'cooling' 'parking' 'school_count'\n",
            " 'schools_rating_ave' 'schools_distance_ave' 'age_building' 'Pool'\n",
            " 'propertyType_Multi Family' 'state_CA' 'state_CO' 'state_DC' 'state_FL'\n",
            " 'state_IA' 'state_MI' 'state_NC' 'state_NV' 'state_NY' 'state_OH'\n",
            " 'state_OR' 'state_SC' 'state_TX' 'state_VA' 'state_WA'\n",
            " 'status_foreclosure' 'status_new' 'status_pending']\n"
          ]
        }
      ],
      "source": [
        "feature_function = SelectKBest(k=30)\n",
        "X_train = X_train.select_dtypes([np.number])\n",
        "feature_function.fit(X_train, y_train)\n",
        "columns_kbest = feature_function.get_feature_names_out()\n",
        "print(columns_kbest)"
      ]
    },
    {
      "cell_type": "markdown",
      "id": "f6ee2144",
      "metadata": {},
      "source": [
        "Выделяем отобранные признаки из общего числа признаков"
      ]
    },
    {
      "cell_type": "code",
      "execution_count": 60,
      "id": "0ba627e7",
      "metadata": {},
      "outputs": [],
      "source": [
        "X_kbest = data[columns_kbest]\n",
        "y_kbest = data['target']"
      ]
    },
    {
      "cell_type": "markdown",
      "id": "fc4c489d",
      "metadata": {},
      "source": [
        "Разбиваем выборку на тренировочную и тестовую в соотношении 70/30"
      ]
    },
    {
      "cell_type": "code",
      "execution_count": 61,
      "id": "7a22b0c9",
      "metadata": {},
      "outputs": [],
      "source": [
        "X_train_kbest, X_test_kbest, y_train_kbest, y_test_kbest = train_test_split(X_kbest, y_kbest, test_size=0.3, random_state=42)"
      ]
    },
    {
      "cell_type": "markdown",
      "id": "bce2e3d4",
      "metadata": {},
      "source": [
        "Проводим нормализацию:"
      ]
    },
    {
      "cell_type": "code",
      "execution_count": 62,
      "id": "af0cade2",
      "metadata": {},
      "outputs": [],
      "source": [
        "scaler = preprocessing.RobustScaler()\n",
        "scaler.fit(X_train_kbest)\n",
        "X_train_kbest_scaled = scaler.transform(X_train_kbest)\n",
        "X_test_kbest_scaled = scaler.transform(X_test_kbest)"
      ]
    },
    {
      "cell_type": "markdown",
      "id": "277a2de3",
      "metadata": {},
      "source": [
        "Воспользуемся OPTUNA для подбора гиперпараметров"
      ]
    },
    {
      "cell_type": "code",
      "execution_count": 63,
      "id": "337eba7a",
      "metadata": {},
      "outputs": [
        {
          "name": "stderr",
          "output_type": "stream",
          "text": [
            "[I 2024-07-06 18:44:49,015] A new study created in memory with name: RandomForestRegressor\n",
            "[I 2024-07-06 18:45:03,274] Trial 0 finished with value: 35.231135962556706 and parameters: {'n_estimators': 40, 'max_depth': 15, 'min_samples_leaf': 8}. Best is trial 0 with value: 35.231135962556706.\n",
            "[I 2024-07-06 18:46:19,368] Trial 1 finished with value: 26.04549332976615 and parameters: {'n_estimators': 160, 'max_depth': 36, 'min_samples_leaf': 7}. Best is trial 1 with value: 26.04549332976615.\n",
            "[I 2024-07-06 18:47:27,626] Trial 2 finished with value: 33.753611405378344 and parameters: {'n_estimators': 180, 'max_depth': 17, 'min_samples_leaf': 10}. Best is trial 1 with value: 26.04549332976615.\n",
            "[I 2024-07-06 18:47:49,159] Trial 3 finished with value: 54.76560143402401 and parameters: {'n_estimators': 160, 'max_depth': 5, 'min_samples_leaf': 1}. Best is trial 1 with value: 26.04549332976615.\n",
            "[I 2024-07-06 18:48:03,215] Trial 4 finished with value: 27.407199990790442 and parameters: {'n_estimators': 30, 'max_depth': 40, 'min_samples_leaf': 8}. Best is trial 1 with value: 26.04549332976615.\n",
            "[I 2024-07-06 18:48:32,065] Trial 5 finished with value: 36.5415714517722 and parameters: {'n_estimators': 90, 'max_depth': 13, 'min_samples_leaf': 3}. Best is trial 1 with value: 26.04549332976615.\n",
            "[I 2024-07-06 18:48:57,753] Trial 6 finished with value: 27.265477545142648 and parameters: {'n_estimators': 60, 'max_depth': 18, 'min_samples_leaf': 1}. Best is trial 1 with value: 26.04549332976615.\n",
            "[I 2024-07-06 18:49:20,599] Trial 7 finished with value: 28.512072937636173 and parameters: {'n_estimators': 50, 'max_depth': 27, 'min_samples_leaf': 9}. Best is trial 1 with value: 26.04549332976615.\n",
            "[I 2024-07-06 18:49:30,177] Trial 8 finished with value: 52.12475192668566 and parameters: {'n_estimators': 60, 'max_depth': 6, 'min_samples_leaf': 10}. Best is trial 1 with value: 26.04549332976615.\n",
            "[I 2024-07-06 18:50:14,258] Trial 9 finished with value: 40.54305269746901 and parameters: {'n_estimators': 160, 'max_depth': 11, 'min_samples_leaf': 7}. Best is trial 1 with value: 26.04549332976615.\n"
          ]
        },
        {
          "name": "stdout",
          "output_type": "stream",
          "text": [
            "Наилучшие значения гиперпараметров {'n_estimators': 160, 'max_depth': 36, 'min_samples_leaf': 7}\n",
            "MAPE на обучающем наборе: 26.045\n",
            "MAPE на тестовом наборе: 35.365\n"
          ]
        }
      ],
      "source": [
        "#Создаем логарифмированный целевой признак\n",
        "y_train_kbest_log = np.log(y_train_kbest)\n",
        "def optuna_rf(trial):\n",
        "  # задаем пространства поиска гиперпараметров\n",
        "  n_estimators = trial.suggest_int('n_estimators', 10, 200, 10)\n",
        "  max_depth = trial.suggest_int('max_depth', 5, 50, 1)\n",
        "  min_samples_leaf = trial.suggest_int('min_samples_leaf', 1, 10, 1)\n",
        "  # создаем модель\n",
        "  model = ensemble.RandomForestRegressor(n_estimators=n_estimators,\n",
        "                                          max_depth=max_depth,\n",
        "                                          min_samples_leaf=min_samples_leaf,\n",
        "                                          random_state=42)\n",
        "  # обучаем модель\n",
        "  model.fit(X_train_kbest_scaled, y_train_kbest_log)\n",
        "  score = metrics.mean_absolute_percentage_error(y_train_kbest, np.exp(model.predict(X_train_kbest_scaled)))*100\n",
        "  return score\n",
        "\n",
        "# cоздаем объект исследования\n",
        "study = optuna.create_study(study_name=\"RandomForestRegressor\", direction='minimize')\n",
        "# ищем лучшую комбинацию гиперпараметров n_trials раз\n",
        "study.optimize(optuna_rf, n_trials=10)\n",
        "\n",
        "# выводим результаты на обучающей выборке\n",
        "print(\"Наилучшие значения гиперпараметров {}\".format(study.best_params))\n",
        "print(\"MAPE на обучающем наборе: {:.3f}\".format(study.best_value))\n",
        "\n",
        "# рассчитаем точность для тестовой выборки\n",
        "model = ensemble.RandomForestRegressor(**study.best_params,random_state=42)\n",
        "model.fit(X_train_kbest_scaled, y_train_kbest_log)\n",
        "y_train_kbest_pred = np.exp(model.predict(X_train_kbest_scaled))\n",
        "y_test_kbest_pred = np.exp(model.predict(X_test_kbest_scaled))\n",
        "print('MAPE на тестовом наборе: {:.3f}'.format(metrics.mean_absolute_percentage_error(y_test_kbest, y_test_kbest_pred)*100))"
      ]
    },
    {
      "cell_type": "code",
      "execution_count": 64,
      "id": "941523eb",
      "metadata": {},
      "outputs": [
        {
          "name": "stderr",
          "output_type": "stream",
          "text": [
            "[I 2024-07-06 19:00:23,801] Trial 10 finished with value: 23.098466940740646 and parameters: {'n_estimators': 120, 'max_depth': 49, 'min_samples_leaf': 5}. Best is trial 10 with value: 23.098466940740646.\n",
            "[I 2024-07-06 19:01:22,924] Trial 11 finished with value: 23.098466940740646 and parameters: {'n_estimators': 120, 'max_depth': 49, 'min_samples_leaf': 5}. Best is trial 10 with value: 23.098466940740646.\n",
            "[I 2024-07-06 19:02:23,947] Trial 12 finished with value: 20.999315856281072 and parameters: {'n_estimators': 120, 'max_depth': 50, 'min_samples_leaf': 4}. Best is trial 12 with value: 20.999315856281072.\n",
            "[I 2024-07-06 19:03:19,814] Trial 13 finished with value: 21.011856280167652 and parameters: {'n_estimators': 110, 'max_depth': 48, 'min_samples_leaf': 4}. Best is trial 12 with value: 20.999315856281072.\n",
            "[I 2024-07-06 19:04:07,297] Trial 14 finished with value: 18.297193296680494 and parameters: {'n_estimators': 90, 'max_depth': 41, 'min_samples_leaf': 3}. Best is trial 14 with value: 18.297193296680494.\n",
            "[I 2024-07-06 19:04:54,820] Trial 15 finished with value: 18.297193296680494 and parameters: {'n_estimators': 90, 'max_depth': 41, 'min_samples_leaf': 3}. Best is trial 14 with value: 18.297193296680494.\n",
            "[I 2024-07-06 19:05:39,326] Trial 16 finished with value: 14.837307040881873 and parameters: {'n_estimators': 80, 'max_depth': 37, 'min_samples_leaf': 2}. Best is trial 16 with value: 14.837307040881873.\n",
            "[I 2024-07-06 19:06:22,844] Trial 17 finished with value: 16.07720363294525 and parameters: {'n_estimators': 80, 'max_depth': 30, 'min_samples_leaf': 2}. Best is trial 16 with value: 14.837307040881873.\n",
            "[I 2024-07-06 19:07:05,701] Trial 18 finished with value: 17.05551838225159 and parameters: {'n_estimators': 80, 'max_depth': 28, 'min_samples_leaf': 2}. Best is trial 16 with value: 14.837307040881873.\n",
            "[I 2024-07-06 19:07:16,534] Trial 19 finished with value: 17.210866481150642 and parameters: {'n_estimators': 20, 'max_depth': 29, 'min_samples_leaf': 2}. Best is trial 16 with value: 14.837307040881873.\n"
          ]
        },
        {
          "name": "stdout",
          "output_type": "stream",
          "text": [
            "CPU times: user 7min 47s, sys: 944 ms, total: 7min 48s\n",
            "Wall time: 7min 51s\n"
          ]
        }
      ],
      "source": [
        "%%time\n",
        "# продолжим подбор еще 10 итераций \n",
        "study.optimize(optuna_rf, n_trials=10)"
      ]
    },
    {
      "cell_type": "code",
      "execution_count": 65,
      "id": "59a1a16a",
      "metadata": {},
      "outputs": [
        {
          "name": "stdout",
          "output_type": "stream",
          "text": [
            "Наилучшие значения гиперпараметров {'n_estimators': 80, 'max_depth': 37, 'min_samples_leaf': 2}\n",
            "MAPE на обучающем наборе: 14.837\n",
            "MAPE на тестовом наборе: 33.747\n"
          ]
        }
      ],
      "source": [
        "# выводим результаты на обучающей выборке\n",
        "print(\"Наилучшие значения гиперпараметров {}\".format(study.best_params))\n",
        "print(\"MAPE на обучающем наборе: {:.3f}\".format(study.best_value))\n",
        "\n",
        "# рассчитаем точность для тестовой выборки\n",
        "model = ensemble.RandomForestRegressor(**study.best_params,random_state=42)\n",
        "model.fit(X_train_kbest_scaled, y_train_kbest_log)\n",
        "y_train_kbest_pred = np.exp(model.predict(X_train_kbest_scaled))\n",
        "y_test_kbest_pred = np.exp(model.predict(X_test_kbest_scaled))\n",
        "print('MAPE на тестовом наборе: {:.3f}'.format(metrics.mean_absolute_percentage_error(y_test_kbest, y_test_kbest_pred)*100))"
      ]
    },
    {
      "cell_type": "markdown",
      "id": "e523fd59",
      "metadata": {},
      "source": [
        "Построим график истории оптимизации - он отображает количество испытаний на оси Х и метрику на оси Y. По графику видно, что метрика минимизируется."
      ]
    },
    {
      "cell_type": "code",
      "execution_count": 66,
      "id": "ac81cef3",
      "metadata": {},
      "outputs": [
        {
          "data": {
            "application/vnd.plotly.v1+json": {
              "config": {
                "plotlyServerURL": "https://plot.ly"
              },
              "data": [
                {
                  "mode": "markers",
                  "name": "MAPE",
                  "type": "scatter",
                  "x": [
                    0,
                    1,
                    2,
                    3,
                    4,
                    5,
                    6,
                    7,
                    8,
                    9,
                    10,
                    11,
                    12,
                    13,
                    14,
                    15,
                    16,
                    17,
                    18,
                    19
                  ],
                  "y": [
                    35.231135962556706,
                    26.04549332976615,
                    33.753611405378344,
                    54.76560143402401,
                    27.407199990790442,
                    36.5415714517722,
                    27.265477545142648,
                    28.512072937636173,
                    52.12475192668566,
                    40.54305269746901,
                    23.098466940740646,
                    23.098466940740646,
                    20.999315856281072,
                    21.011856280167652,
                    18.297193296680494,
                    18.297193296680494,
                    14.837307040881873,
                    16.07720363294525,
                    17.05551838225159,
                    17.210866481150642
                  ]
                },
                {
                  "mode": "lines",
                  "name": "Best Value",
                  "type": "scatter",
                  "x": [
                    0,
                    1,
                    2,
                    3,
                    4,
                    5,
                    6,
                    7,
                    8,
                    9,
                    10,
                    11,
                    12,
                    13,
                    14,
                    15,
                    16,
                    17,
                    18,
                    19
                  ],
                  "y": [
                    35.231135962556706,
                    26.04549332976615,
                    26.04549332976615,
                    26.04549332976615,
                    26.04549332976615,
                    26.04549332976615,
                    26.04549332976615,
                    26.04549332976615,
                    26.04549332976615,
                    26.04549332976615,
                    23.098466940740646,
                    23.098466940740646,
                    20.999315856281072,
                    20.999315856281072,
                    18.297193296680494,
                    18.297193296680494,
                    14.837307040881873,
                    14.837307040881873,
                    14.837307040881873,
                    14.837307040881873
                  ]
                },
                {
                  "marker": {
                    "color": "#cccccc"
                  },
                  "mode": "markers",
                  "name": "Infeasible Trial",
                  "showlegend": false,
                  "type": "scatter",
                  "x": [],
                  "y": []
                }
              ],
              "layout": {
                "template": {
                  "data": {
                    "bar": [
                      {
                        "error_x": {
                          "color": "#2a3f5f"
                        },
                        "error_y": {
                          "color": "#2a3f5f"
                        },
                        "marker": {
                          "line": {
                            "color": "#E5ECF6",
                            "width": 0.5
                          },
                          "pattern": {
                            "fillmode": "overlay",
                            "size": 10,
                            "solidity": 0.2
                          }
                        },
                        "type": "bar"
                      }
                    ],
                    "barpolar": [
                      {
                        "marker": {
                          "line": {
                            "color": "#E5ECF6",
                            "width": 0.5
                          },
                          "pattern": {
                            "fillmode": "overlay",
                            "size": 10,
                            "solidity": 0.2
                          }
                        },
                        "type": "barpolar"
                      }
                    ],
                    "carpet": [
                      {
                        "aaxis": {
                          "endlinecolor": "#2a3f5f",
                          "gridcolor": "white",
                          "linecolor": "white",
                          "minorgridcolor": "white",
                          "startlinecolor": "#2a3f5f"
                        },
                        "baxis": {
                          "endlinecolor": "#2a3f5f",
                          "gridcolor": "white",
                          "linecolor": "white",
                          "minorgridcolor": "white",
                          "startlinecolor": "#2a3f5f"
                        },
                        "type": "carpet"
                      }
                    ],
                    "choropleth": [
                      {
                        "colorbar": {
                          "outlinewidth": 0,
                          "ticks": ""
                        },
                        "type": "choropleth"
                      }
                    ],
                    "contour": [
                      {
                        "colorbar": {
                          "outlinewidth": 0,
                          "ticks": ""
                        },
                        "colorscale": [
                          [
                            0,
                            "#0d0887"
                          ],
                          [
                            0.1111111111111111,
                            "#46039f"
                          ],
                          [
                            0.2222222222222222,
                            "#7201a8"
                          ],
                          [
                            0.3333333333333333,
                            "#9c179e"
                          ],
                          [
                            0.4444444444444444,
                            "#bd3786"
                          ],
                          [
                            0.5555555555555556,
                            "#d8576b"
                          ],
                          [
                            0.6666666666666666,
                            "#ed7953"
                          ],
                          [
                            0.7777777777777778,
                            "#fb9f3a"
                          ],
                          [
                            0.8888888888888888,
                            "#fdca26"
                          ],
                          [
                            1,
                            "#f0f921"
                          ]
                        ],
                        "type": "contour"
                      }
                    ],
                    "contourcarpet": [
                      {
                        "colorbar": {
                          "outlinewidth": 0,
                          "ticks": ""
                        },
                        "type": "contourcarpet"
                      }
                    ],
                    "heatmap": [
                      {
                        "colorbar": {
                          "outlinewidth": 0,
                          "ticks": ""
                        },
                        "colorscale": [
                          [
                            0,
                            "#0d0887"
                          ],
                          [
                            0.1111111111111111,
                            "#46039f"
                          ],
                          [
                            0.2222222222222222,
                            "#7201a8"
                          ],
                          [
                            0.3333333333333333,
                            "#9c179e"
                          ],
                          [
                            0.4444444444444444,
                            "#bd3786"
                          ],
                          [
                            0.5555555555555556,
                            "#d8576b"
                          ],
                          [
                            0.6666666666666666,
                            "#ed7953"
                          ],
                          [
                            0.7777777777777778,
                            "#fb9f3a"
                          ],
                          [
                            0.8888888888888888,
                            "#fdca26"
                          ],
                          [
                            1,
                            "#f0f921"
                          ]
                        ],
                        "type": "heatmap"
                      }
                    ],
                    "heatmapgl": [
                      {
                        "colorbar": {
                          "outlinewidth": 0,
                          "ticks": ""
                        },
                        "colorscale": [
                          [
                            0,
                            "#0d0887"
                          ],
                          [
                            0.1111111111111111,
                            "#46039f"
                          ],
                          [
                            0.2222222222222222,
                            "#7201a8"
                          ],
                          [
                            0.3333333333333333,
                            "#9c179e"
                          ],
                          [
                            0.4444444444444444,
                            "#bd3786"
                          ],
                          [
                            0.5555555555555556,
                            "#d8576b"
                          ],
                          [
                            0.6666666666666666,
                            "#ed7953"
                          ],
                          [
                            0.7777777777777778,
                            "#fb9f3a"
                          ],
                          [
                            0.8888888888888888,
                            "#fdca26"
                          ],
                          [
                            1,
                            "#f0f921"
                          ]
                        ],
                        "type": "heatmapgl"
                      }
                    ],
                    "histogram": [
                      {
                        "marker": {
                          "pattern": {
                            "fillmode": "overlay",
                            "size": 10,
                            "solidity": 0.2
                          }
                        },
                        "type": "histogram"
                      }
                    ],
                    "histogram2d": [
                      {
                        "colorbar": {
                          "outlinewidth": 0,
                          "ticks": ""
                        },
                        "colorscale": [
                          [
                            0,
                            "#0d0887"
                          ],
                          [
                            0.1111111111111111,
                            "#46039f"
                          ],
                          [
                            0.2222222222222222,
                            "#7201a8"
                          ],
                          [
                            0.3333333333333333,
                            "#9c179e"
                          ],
                          [
                            0.4444444444444444,
                            "#bd3786"
                          ],
                          [
                            0.5555555555555556,
                            "#d8576b"
                          ],
                          [
                            0.6666666666666666,
                            "#ed7953"
                          ],
                          [
                            0.7777777777777778,
                            "#fb9f3a"
                          ],
                          [
                            0.8888888888888888,
                            "#fdca26"
                          ],
                          [
                            1,
                            "#f0f921"
                          ]
                        ],
                        "type": "histogram2d"
                      }
                    ],
                    "histogram2dcontour": [
                      {
                        "colorbar": {
                          "outlinewidth": 0,
                          "ticks": ""
                        },
                        "colorscale": [
                          [
                            0,
                            "#0d0887"
                          ],
                          [
                            0.1111111111111111,
                            "#46039f"
                          ],
                          [
                            0.2222222222222222,
                            "#7201a8"
                          ],
                          [
                            0.3333333333333333,
                            "#9c179e"
                          ],
                          [
                            0.4444444444444444,
                            "#bd3786"
                          ],
                          [
                            0.5555555555555556,
                            "#d8576b"
                          ],
                          [
                            0.6666666666666666,
                            "#ed7953"
                          ],
                          [
                            0.7777777777777778,
                            "#fb9f3a"
                          ],
                          [
                            0.8888888888888888,
                            "#fdca26"
                          ],
                          [
                            1,
                            "#f0f921"
                          ]
                        ],
                        "type": "histogram2dcontour"
                      }
                    ],
                    "mesh3d": [
                      {
                        "colorbar": {
                          "outlinewidth": 0,
                          "ticks": ""
                        },
                        "type": "mesh3d"
                      }
                    ],
                    "parcoords": [
                      {
                        "line": {
                          "colorbar": {
                            "outlinewidth": 0,
                            "ticks": ""
                          }
                        },
                        "type": "parcoords"
                      }
                    ],
                    "pie": [
                      {
                        "automargin": true,
                        "type": "pie"
                      }
                    ],
                    "scatter": [
                      {
                        "fillpattern": {
                          "fillmode": "overlay",
                          "size": 10,
                          "solidity": 0.2
                        },
                        "type": "scatter"
                      }
                    ],
                    "scatter3d": [
                      {
                        "line": {
                          "colorbar": {
                            "outlinewidth": 0,
                            "ticks": ""
                          }
                        },
                        "marker": {
                          "colorbar": {
                            "outlinewidth": 0,
                            "ticks": ""
                          }
                        },
                        "type": "scatter3d"
                      }
                    ],
                    "scattercarpet": [
                      {
                        "marker": {
                          "colorbar": {
                            "outlinewidth": 0,
                            "ticks": ""
                          }
                        },
                        "type": "scattercarpet"
                      }
                    ],
                    "scattergeo": [
                      {
                        "marker": {
                          "colorbar": {
                            "outlinewidth": 0,
                            "ticks": ""
                          }
                        },
                        "type": "scattergeo"
                      }
                    ],
                    "scattergl": [
                      {
                        "marker": {
                          "colorbar": {
                            "outlinewidth": 0,
                            "ticks": ""
                          }
                        },
                        "type": "scattergl"
                      }
                    ],
                    "scattermapbox": [
                      {
                        "marker": {
                          "colorbar": {
                            "outlinewidth": 0,
                            "ticks": ""
                          }
                        },
                        "type": "scattermapbox"
                      }
                    ],
                    "scatterpolar": [
                      {
                        "marker": {
                          "colorbar": {
                            "outlinewidth": 0,
                            "ticks": ""
                          }
                        },
                        "type": "scatterpolar"
                      }
                    ],
                    "scatterpolargl": [
                      {
                        "marker": {
                          "colorbar": {
                            "outlinewidth": 0,
                            "ticks": ""
                          }
                        },
                        "type": "scatterpolargl"
                      }
                    ],
                    "scatterternary": [
                      {
                        "marker": {
                          "colorbar": {
                            "outlinewidth": 0,
                            "ticks": ""
                          }
                        },
                        "type": "scatterternary"
                      }
                    ],
                    "surface": [
                      {
                        "colorbar": {
                          "outlinewidth": 0,
                          "ticks": ""
                        },
                        "colorscale": [
                          [
                            0,
                            "#0d0887"
                          ],
                          [
                            0.1111111111111111,
                            "#46039f"
                          ],
                          [
                            0.2222222222222222,
                            "#7201a8"
                          ],
                          [
                            0.3333333333333333,
                            "#9c179e"
                          ],
                          [
                            0.4444444444444444,
                            "#bd3786"
                          ],
                          [
                            0.5555555555555556,
                            "#d8576b"
                          ],
                          [
                            0.6666666666666666,
                            "#ed7953"
                          ],
                          [
                            0.7777777777777778,
                            "#fb9f3a"
                          ],
                          [
                            0.8888888888888888,
                            "#fdca26"
                          ],
                          [
                            1,
                            "#f0f921"
                          ]
                        ],
                        "type": "surface"
                      }
                    ],
                    "table": [
                      {
                        "cells": {
                          "fill": {
                            "color": "#EBF0F8"
                          },
                          "line": {
                            "color": "white"
                          }
                        },
                        "header": {
                          "fill": {
                            "color": "#C8D4E3"
                          },
                          "line": {
                            "color": "white"
                          }
                        },
                        "type": "table"
                      }
                    ]
                  },
                  "layout": {
                    "annotationdefaults": {
                      "arrowcolor": "#2a3f5f",
                      "arrowhead": 0,
                      "arrowwidth": 1
                    },
                    "autotypenumbers": "strict",
                    "coloraxis": {
                      "colorbar": {
                        "outlinewidth": 0,
                        "ticks": ""
                      }
                    },
                    "colorscale": {
                      "diverging": [
                        [
                          0,
                          "#8e0152"
                        ],
                        [
                          0.1,
                          "#c51b7d"
                        ],
                        [
                          0.2,
                          "#de77ae"
                        ],
                        [
                          0.3,
                          "#f1b6da"
                        ],
                        [
                          0.4,
                          "#fde0ef"
                        ],
                        [
                          0.5,
                          "#f7f7f7"
                        ],
                        [
                          0.6,
                          "#e6f5d0"
                        ],
                        [
                          0.7,
                          "#b8e186"
                        ],
                        [
                          0.8,
                          "#7fbc41"
                        ],
                        [
                          0.9,
                          "#4d9221"
                        ],
                        [
                          1,
                          "#276419"
                        ]
                      ],
                      "sequential": [
                        [
                          0,
                          "#0d0887"
                        ],
                        [
                          0.1111111111111111,
                          "#46039f"
                        ],
                        [
                          0.2222222222222222,
                          "#7201a8"
                        ],
                        [
                          0.3333333333333333,
                          "#9c179e"
                        ],
                        [
                          0.4444444444444444,
                          "#bd3786"
                        ],
                        [
                          0.5555555555555556,
                          "#d8576b"
                        ],
                        [
                          0.6666666666666666,
                          "#ed7953"
                        ],
                        [
                          0.7777777777777778,
                          "#fb9f3a"
                        ],
                        [
                          0.8888888888888888,
                          "#fdca26"
                        ],
                        [
                          1,
                          "#f0f921"
                        ]
                      ],
                      "sequentialminus": [
                        [
                          0,
                          "#0d0887"
                        ],
                        [
                          0.1111111111111111,
                          "#46039f"
                        ],
                        [
                          0.2222222222222222,
                          "#7201a8"
                        ],
                        [
                          0.3333333333333333,
                          "#9c179e"
                        ],
                        [
                          0.4444444444444444,
                          "#bd3786"
                        ],
                        [
                          0.5555555555555556,
                          "#d8576b"
                        ],
                        [
                          0.6666666666666666,
                          "#ed7953"
                        ],
                        [
                          0.7777777777777778,
                          "#fb9f3a"
                        ],
                        [
                          0.8888888888888888,
                          "#fdca26"
                        ],
                        [
                          1,
                          "#f0f921"
                        ]
                      ]
                    },
                    "colorway": [
                      "#636efa",
                      "#EF553B",
                      "#00cc96",
                      "#ab63fa",
                      "#FFA15A",
                      "#19d3f3",
                      "#FF6692",
                      "#B6E880",
                      "#FF97FF",
                      "#FECB52"
                    ],
                    "font": {
                      "color": "#2a3f5f"
                    },
                    "geo": {
                      "bgcolor": "white",
                      "lakecolor": "white",
                      "landcolor": "#E5ECF6",
                      "showlakes": true,
                      "showland": true,
                      "subunitcolor": "white"
                    },
                    "hoverlabel": {
                      "align": "left"
                    },
                    "hovermode": "closest",
                    "mapbox": {
                      "style": "light"
                    },
                    "paper_bgcolor": "white",
                    "plot_bgcolor": "#E5ECF6",
                    "polar": {
                      "angularaxis": {
                        "gridcolor": "white",
                        "linecolor": "white",
                        "ticks": ""
                      },
                      "bgcolor": "#E5ECF6",
                      "radialaxis": {
                        "gridcolor": "white",
                        "linecolor": "white",
                        "ticks": ""
                      }
                    },
                    "scene": {
                      "xaxis": {
                        "backgroundcolor": "#E5ECF6",
                        "gridcolor": "white",
                        "gridwidth": 2,
                        "linecolor": "white",
                        "showbackground": true,
                        "ticks": "",
                        "zerolinecolor": "white"
                      },
                      "yaxis": {
                        "backgroundcolor": "#E5ECF6",
                        "gridcolor": "white",
                        "gridwidth": 2,
                        "linecolor": "white",
                        "showbackground": true,
                        "ticks": "",
                        "zerolinecolor": "white"
                      },
                      "zaxis": {
                        "backgroundcolor": "#E5ECF6",
                        "gridcolor": "white",
                        "gridwidth": 2,
                        "linecolor": "white",
                        "showbackground": true,
                        "ticks": "",
                        "zerolinecolor": "white"
                      }
                    },
                    "shapedefaults": {
                      "line": {
                        "color": "#2a3f5f"
                      }
                    },
                    "ternary": {
                      "aaxis": {
                        "gridcolor": "white",
                        "linecolor": "white",
                        "ticks": ""
                      },
                      "baxis": {
                        "gridcolor": "white",
                        "linecolor": "white",
                        "ticks": ""
                      },
                      "bgcolor": "#E5ECF6",
                      "caxis": {
                        "gridcolor": "white",
                        "linecolor": "white",
                        "ticks": ""
                      }
                    },
                    "title": {
                      "x": 0.05
                    },
                    "xaxis": {
                      "automargin": true,
                      "gridcolor": "white",
                      "linecolor": "white",
                      "ticks": "",
                      "title": {
                        "standoff": 15
                      },
                      "zerolinecolor": "white",
                      "zerolinewidth": 2
                    },
                    "yaxis": {
                      "automargin": true,
                      "gridcolor": "white",
                      "linecolor": "white",
                      "ticks": "",
                      "title": {
                        "standoff": 15
                      },
                      "zerolinecolor": "white",
                      "zerolinewidth": 2
                    }
                  }
                },
                "title": {
                  "text": "Optimization History Plot"
                },
                "xaxis": {
                  "title": {
                    "text": "Trial"
                  }
                },
                "yaxis": {
                  "title": {
                    "text": "MAPE"
                  }
                }
              }
            }
          },
          "metadata": {},
          "output_type": "display_data"
        }
      ],
      "source": [
        "optuna.visualization.plot_optimization_history(study, target_name=\"MAPE\")"
      ]
    },
    {
      "cell_type": "markdown",
      "id": "eaa902f3",
      "metadata": {},
      "source": [
        "Постороим график важности гиперпараметров - помогает понять, какие гиперпараметры вносят больший вклад в минимизацию метрики."
      ]
    },
    {
      "cell_type": "code",
      "execution_count": 67,
      "id": "1d88fc23",
      "metadata": {},
      "outputs": [
        {
          "data": {
            "application/vnd.plotly.v1+json": {
              "config": {
                "plotlyServerURL": "https://plot.ly"
              },
              "data": [
                {
                  "cliponaxis": false,
                  "hovertemplate": [
                    "n_estimators (IntDistribution): 0.016200369915867603<extra></extra>",
                    "min_samples_leaf (IntDistribution): 0.08853413626821197<extra></extra>",
                    "max_depth (IntDistribution): 0.8952654938159205<extra></extra>"
                  ],
                  "name": "MAPE",
                  "orientation": "h",
                  "text": [
                    "0.02",
                    "0.09",
                    "0.90"
                  ],
                  "textposition": "outside",
                  "type": "bar",
                  "x": [
                    0.016200369915867603,
                    0.08853413626821197,
                    0.8952654938159205
                  ],
                  "y": [
                    "n_estimators",
                    "min_samples_leaf",
                    "max_depth"
                  ]
                }
              ],
              "layout": {
                "template": {
                  "data": {
                    "bar": [
                      {
                        "error_x": {
                          "color": "#2a3f5f"
                        },
                        "error_y": {
                          "color": "#2a3f5f"
                        },
                        "marker": {
                          "line": {
                            "color": "#E5ECF6",
                            "width": 0.5
                          },
                          "pattern": {
                            "fillmode": "overlay",
                            "size": 10,
                            "solidity": 0.2
                          }
                        },
                        "type": "bar"
                      }
                    ],
                    "barpolar": [
                      {
                        "marker": {
                          "line": {
                            "color": "#E5ECF6",
                            "width": 0.5
                          },
                          "pattern": {
                            "fillmode": "overlay",
                            "size": 10,
                            "solidity": 0.2
                          }
                        },
                        "type": "barpolar"
                      }
                    ],
                    "carpet": [
                      {
                        "aaxis": {
                          "endlinecolor": "#2a3f5f",
                          "gridcolor": "white",
                          "linecolor": "white",
                          "minorgridcolor": "white",
                          "startlinecolor": "#2a3f5f"
                        },
                        "baxis": {
                          "endlinecolor": "#2a3f5f",
                          "gridcolor": "white",
                          "linecolor": "white",
                          "minorgridcolor": "white",
                          "startlinecolor": "#2a3f5f"
                        },
                        "type": "carpet"
                      }
                    ],
                    "choropleth": [
                      {
                        "colorbar": {
                          "outlinewidth": 0,
                          "ticks": ""
                        },
                        "type": "choropleth"
                      }
                    ],
                    "contour": [
                      {
                        "colorbar": {
                          "outlinewidth": 0,
                          "ticks": ""
                        },
                        "colorscale": [
                          [
                            0,
                            "#0d0887"
                          ],
                          [
                            0.1111111111111111,
                            "#46039f"
                          ],
                          [
                            0.2222222222222222,
                            "#7201a8"
                          ],
                          [
                            0.3333333333333333,
                            "#9c179e"
                          ],
                          [
                            0.4444444444444444,
                            "#bd3786"
                          ],
                          [
                            0.5555555555555556,
                            "#d8576b"
                          ],
                          [
                            0.6666666666666666,
                            "#ed7953"
                          ],
                          [
                            0.7777777777777778,
                            "#fb9f3a"
                          ],
                          [
                            0.8888888888888888,
                            "#fdca26"
                          ],
                          [
                            1,
                            "#f0f921"
                          ]
                        ],
                        "type": "contour"
                      }
                    ],
                    "contourcarpet": [
                      {
                        "colorbar": {
                          "outlinewidth": 0,
                          "ticks": ""
                        },
                        "type": "contourcarpet"
                      }
                    ],
                    "heatmap": [
                      {
                        "colorbar": {
                          "outlinewidth": 0,
                          "ticks": ""
                        },
                        "colorscale": [
                          [
                            0,
                            "#0d0887"
                          ],
                          [
                            0.1111111111111111,
                            "#46039f"
                          ],
                          [
                            0.2222222222222222,
                            "#7201a8"
                          ],
                          [
                            0.3333333333333333,
                            "#9c179e"
                          ],
                          [
                            0.4444444444444444,
                            "#bd3786"
                          ],
                          [
                            0.5555555555555556,
                            "#d8576b"
                          ],
                          [
                            0.6666666666666666,
                            "#ed7953"
                          ],
                          [
                            0.7777777777777778,
                            "#fb9f3a"
                          ],
                          [
                            0.8888888888888888,
                            "#fdca26"
                          ],
                          [
                            1,
                            "#f0f921"
                          ]
                        ],
                        "type": "heatmap"
                      }
                    ],
                    "heatmapgl": [
                      {
                        "colorbar": {
                          "outlinewidth": 0,
                          "ticks": ""
                        },
                        "colorscale": [
                          [
                            0,
                            "#0d0887"
                          ],
                          [
                            0.1111111111111111,
                            "#46039f"
                          ],
                          [
                            0.2222222222222222,
                            "#7201a8"
                          ],
                          [
                            0.3333333333333333,
                            "#9c179e"
                          ],
                          [
                            0.4444444444444444,
                            "#bd3786"
                          ],
                          [
                            0.5555555555555556,
                            "#d8576b"
                          ],
                          [
                            0.6666666666666666,
                            "#ed7953"
                          ],
                          [
                            0.7777777777777778,
                            "#fb9f3a"
                          ],
                          [
                            0.8888888888888888,
                            "#fdca26"
                          ],
                          [
                            1,
                            "#f0f921"
                          ]
                        ],
                        "type": "heatmapgl"
                      }
                    ],
                    "histogram": [
                      {
                        "marker": {
                          "pattern": {
                            "fillmode": "overlay",
                            "size": 10,
                            "solidity": 0.2
                          }
                        },
                        "type": "histogram"
                      }
                    ],
                    "histogram2d": [
                      {
                        "colorbar": {
                          "outlinewidth": 0,
                          "ticks": ""
                        },
                        "colorscale": [
                          [
                            0,
                            "#0d0887"
                          ],
                          [
                            0.1111111111111111,
                            "#46039f"
                          ],
                          [
                            0.2222222222222222,
                            "#7201a8"
                          ],
                          [
                            0.3333333333333333,
                            "#9c179e"
                          ],
                          [
                            0.4444444444444444,
                            "#bd3786"
                          ],
                          [
                            0.5555555555555556,
                            "#d8576b"
                          ],
                          [
                            0.6666666666666666,
                            "#ed7953"
                          ],
                          [
                            0.7777777777777778,
                            "#fb9f3a"
                          ],
                          [
                            0.8888888888888888,
                            "#fdca26"
                          ],
                          [
                            1,
                            "#f0f921"
                          ]
                        ],
                        "type": "histogram2d"
                      }
                    ],
                    "histogram2dcontour": [
                      {
                        "colorbar": {
                          "outlinewidth": 0,
                          "ticks": ""
                        },
                        "colorscale": [
                          [
                            0,
                            "#0d0887"
                          ],
                          [
                            0.1111111111111111,
                            "#46039f"
                          ],
                          [
                            0.2222222222222222,
                            "#7201a8"
                          ],
                          [
                            0.3333333333333333,
                            "#9c179e"
                          ],
                          [
                            0.4444444444444444,
                            "#bd3786"
                          ],
                          [
                            0.5555555555555556,
                            "#d8576b"
                          ],
                          [
                            0.6666666666666666,
                            "#ed7953"
                          ],
                          [
                            0.7777777777777778,
                            "#fb9f3a"
                          ],
                          [
                            0.8888888888888888,
                            "#fdca26"
                          ],
                          [
                            1,
                            "#f0f921"
                          ]
                        ],
                        "type": "histogram2dcontour"
                      }
                    ],
                    "mesh3d": [
                      {
                        "colorbar": {
                          "outlinewidth": 0,
                          "ticks": ""
                        },
                        "type": "mesh3d"
                      }
                    ],
                    "parcoords": [
                      {
                        "line": {
                          "colorbar": {
                            "outlinewidth": 0,
                            "ticks": ""
                          }
                        },
                        "type": "parcoords"
                      }
                    ],
                    "pie": [
                      {
                        "automargin": true,
                        "type": "pie"
                      }
                    ],
                    "scatter": [
                      {
                        "fillpattern": {
                          "fillmode": "overlay",
                          "size": 10,
                          "solidity": 0.2
                        },
                        "type": "scatter"
                      }
                    ],
                    "scatter3d": [
                      {
                        "line": {
                          "colorbar": {
                            "outlinewidth": 0,
                            "ticks": ""
                          }
                        },
                        "marker": {
                          "colorbar": {
                            "outlinewidth": 0,
                            "ticks": ""
                          }
                        },
                        "type": "scatter3d"
                      }
                    ],
                    "scattercarpet": [
                      {
                        "marker": {
                          "colorbar": {
                            "outlinewidth": 0,
                            "ticks": ""
                          }
                        },
                        "type": "scattercarpet"
                      }
                    ],
                    "scattergeo": [
                      {
                        "marker": {
                          "colorbar": {
                            "outlinewidth": 0,
                            "ticks": ""
                          }
                        },
                        "type": "scattergeo"
                      }
                    ],
                    "scattergl": [
                      {
                        "marker": {
                          "colorbar": {
                            "outlinewidth": 0,
                            "ticks": ""
                          }
                        },
                        "type": "scattergl"
                      }
                    ],
                    "scattermapbox": [
                      {
                        "marker": {
                          "colorbar": {
                            "outlinewidth": 0,
                            "ticks": ""
                          }
                        },
                        "type": "scattermapbox"
                      }
                    ],
                    "scatterpolar": [
                      {
                        "marker": {
                          "colorbar": {
                            "outlinewidth": 0,
                            "ticks": ""
                          }
                        },
                        "type": "scatterpolar"
                      }
                    ],
                    "scatterpolargl": [
                      {
                        "marker": {
                          "colorbar": {
                            "outlinewidth": 0,
                            "ticks": ""
                          }
                        },
                        "type": "scatterpolargl"
                      }
                    ],
                    "scatterternary": [
                      {
                        "marker": {
                          "colorbar": {
                            "outlinewidth": 0,
                            "ticks": ""
                          }
                        },
                        "type": "scatterternary"
                      }
                    ],
                    "surface": [
                      {
                        "colorbar": {
                          "outlinewidth": 0,
                          "ticks": ""
                        },
                        "colorscale": [
                          [
                            0,
                            "#0d0887"
                          ],
                          [
                            0.1111111111111111,
                            "#46039f"
                          ],
                          [
                            0.2222222222222222,
                            "#7201a8"
                          ],
                          [
                            0.3333333333333333,
                            "#9c179e"
                          ],
                          [
                            0.4444444444444444,
                            "#bd3786"
                          ],
                          [
                            0.5555555555555556,
                            "#d8576b"
                          ],
                          [
                            0.6666666666666666,
                            "#ed7953"
                          ],
                          [
                            0.7777777777777778,
                            "#fb9f3a"
                          ],
                          [
                            0.8888888888888888,
                            "#fdca26"
                          ],
                          [
                            1,
                            "#f0f921"
                          ]
                        ],
                        "type": "surface"
                      }
                    ],
                    "table": [
                      {
                        "cells": {
                          "fill": {
                            "color": "#EBF0F8"
                          },
                          "line": {
                            "color": "white"
                          }
                        },
                        "header": {
                          "fill": {
                            "color": "#C8D4E3"
                          },
                          "line": {
                            "color": "white"
                          }
                        },
                        "type": "table"
                      }
                    ]
                  },
                  "layout": {
                    "annotationdefaults": {
                      "arrowcolor": "#2a3f5f",
                      "arrowhead": 0,
                      "arrowwidth": 1
                    },
                    "autotypenumbers": "strict",
                    "coloraxis": {
                      "colorbar": {
                        "outlinewidth": 0,
                        "ticks": ""
                      }
                    },
                    "colorscale": {
                      "diverging": [
                        [
                          0,
                          "#8e0152"
                        ],
                        [
                          0.1,
                          "#c51b7d"
                        ],
                        [
                          0.2,
                          "#de77ae"
                        ],
                        [
                          0.3,
                          "#f1b6da"
                        ],
                        [
                          0.4,
                          "#fde0ef"
                        ],
                        [
                          0.5,
                          "#f7f7f7"
                        ],
                        [
                          0.6,
                          "#e6f5d0"
                        ],
                        [
                          0.7,
                          "#b8e186"
                        ],
                        [
                          0.8,
                          "#7fbc41"
                        ],
                        [
                          0.9,
                          "#4d9221"
                        ],
                        [
                          1,
                          "#276419"
                        ]
                      ],
                      "sequential": [
                        [
                          0,
                          "#0d0887"
                        ],
                        [
                          0.1111111111111111,
                          "#46039f"
                        ],
                        [
                          0.2222222222222222,
                          "#7201a8"
                        ],
                        [
                          0.3333333333333333,
                          "#9c179e"
                        ],
                        [
                          0.4444444444444444,
                          "#bd3786"
                        ],
                        [
                          0.5555555555555556,
                          "#d8576b"
                        ],
                        [
                          0.6666666666666666,
                          "#ed7953"
                        ],
                        [
                          0.7777777777777778,
                          "#fb9f3a"
                        ],
                        [
                          0.8888888888888888,
                          "#fdca26"
                        ],
                        [
                          1,
                          "#f0f921"
                        ]
                      ],
                      "sequentialminus": [
                        [
                          0,
                          "#0d0887"
                        ],
                        [
                          0.1111111111111111,
                          "#46039f"
                        ],
                        [
                          0.2222222222222222,
                          "#7201a8"
                        ],
                        [
                          0.3333333333333333,
                          "#9c179e"
                        ],
                        [
                          0.4444444444444444,
                          "#bd3786"
                        ],
                        [
                          0.5555555555555556,
                          "#d8576b"
                        ],
                        [
                          0.6666666666666666,
                          "#ed7953"
                        ],
                        [
                          0.7777777777777778,
                          "#fb9f3a"
                        ],
                        [
                          0.8888888888888888,
                          "#fdca26"
                        ],
                        [
                          1,
                          "#f0f921"
                        ]
                      ]
                    },
                    "colorway": [
                      "#636efa",
                      "#EF553B",
                      "#00cc96",
                      "#ab63fa",
                      "#FFA15A",
                      "#19d3f3",
                      "#FF6692",
                      "#B6E880",
                      "#FF97FF",
                      "#FECB52"
                    ],
                    "font": {
                      "color": "#2a3f5f"
                    },
                    "geo": {
                      "bgcolor": "white",
                      "lakecolor": "white",
                      "landcolor": "#E5ECF6",
                      "showlakes": true,
                      "showland": true,
                      "subunitcolor": "white"
                    },
                    "hoverlabel": {
                      "align": "left"
                    },
                    "hovermode": "closest",
                    "mapbox": {
                      "style": "light"
                    },
                    "paper_bgcolor": "white",
                    "plot_bgcolor": "#E5ECF6",
                    "polar": {
                      "angularaxis": {
                        "gridcolor": "white",
                        "linecolor": "white",
                        "ticks": ""
                      },
                      "bgcolor": "#E5ECF6",
                      "radialaxis": {
                        "gridcolor": "white",
                        "linecolor": "white",
                        "ticks": ""
                      }
                    },
                    "scene": {
                      "xaxis": {
                        "backgroundcolor": "#E5ECF6",
                        "gridcolor": "white",
                        "gridwidth": 2,
                        "linecolor": "white",
                        "showbackground": true,
                        "ticks": "",
                        "zerolinecolor": "white"
                      },
                      "yaxis": {
                        "backgroundcolor": "#E5ECF6",
                        "gridcolor": "white",
                        "gridwidth": 2,
                        "linecolor": "white",
                        "showbackground": true,
                        "ticks": "",
                        "zerolinecolor": "white"
                      },
                      "zaxis": {
                        "backgroundcolor": "#E5ECF6",
                        "gridcolor": "white",
                        "gridwidth": 2,
                        "linecolor": "white",
                        "showbackground": true,
                        "ticks": "",
                        "zerolinecolor": "white"
                      }
                    },
                    "shapedefaults": {
                      "line": {
                        "color": "#2a3f5f"
                      }
                    },
                    "ternary": {
                      "aaxis": {
                        "gridcolor": "white",
                        "linecolor": "white",
                        "ticks": ""
                      },
                      "baxis": {
                        "gridcolor": "white",
                        "linecolor": "white",
                        "ticks": ""
                      },
                      "bgcolor": "#E5ECF6",
                      "caxis": {
                        "gridcolor": "white",
                        "linecolor": "white",
                        "ticks": ""
                      }
                    },
                    "title": {
                      "x": 0.05
                    },
                    "xaxis": {
                      "automargin": true,
                      "gridcolor": "white",
                      "linecolor": "white",
                      "ticks": "",
                      "title": {
                        "standoff": 15
                      },
                      "zerolinecolor": "white",
                      "zerolinewidth": 2
                    },
                    "yaxis": {
                      "automargin": true,
                      "gridcolor": "white",
                      "linecolor": "white",
                      "ticks": "",
                      "title": {
                        "standoff": 15
                      },
                      "zerolinecolor": "white",
                      "zerolinewidth": 2
                    }
                  }
                },
                "title": {
                  "text": "Hyperparameter Importances"
                },
                "xaxis": {
                  "title": {
                    "text": "Hyperparameter Importance"
                  }
                },
                "yaxis": {
                  "title": {
                    "text": "Hyperparameter"
                  }
                }
              }
            }
          },
          "metadata": {},
          "output_type": "display_data"
        }
      ],
      "source": [
        "optuna.visualization.plot_param_importances(study, target_name=\"MAPE\")"
      ]
    },
    {
      "cell_type": "markdown",
      "id": "8ff69ec4",
      "metadata": {},
      "source": [
        "По графику можно сделвать вывод, что стоит обратить большее внимание на настройку гиперпараметра max_depth"
      ]
    },
    {
      "cell_type": "markdown",
      "id": "6f64d8ca",
      "metadata": {},
      "source": [
        "Исходя из метрик можно сделать вывод, что значения метрик лучше на полном наборе данных, без отбора признаков.\n",
        "\n",
        "Проведем подбор гиперпараметров с помощью OPTUNA для полного набора признаков."
      ]
    },
    {
      "cell_type": "markdown",
      "id": "83c3ae6f",
      "metadata": {},
      "source": [
        "Разделим набор данных на матрицу наблюдений X (таблица из объектов и их признаков без учета признака 'price') и столбец правильных ответов y"
      ]
    },
    {
      "cell_type": "code",
      "execution_count": 68,
      "id": "48b2627f",
      "metadata": {},
      "outputs": [],
      "source": [
        "X = data.drop(['price','target'], axis=1)\n",
        "y = data['target']"
      ]
    },
    {
      "cell_type": "markdown",
      "id": "62b0b7ca",
      "metadata": {},
      "source": [
        "Делим выборку на обучающую и тестовую в соотношении 70/30"
      ]
    },
    {
      "cell_type": "code",
      "execution_count": 69,
      "id": "2684bbf7",
      "metadata": {},
      "outputs": [],
      "source": [
        "X_train, X_test, y_train, y_test = train_test_split(X, y, random_state = 42, test_size = 0.3)"
      ]
    },
    {
      "cell_type": "markdown",
      "id": "10192b4e",
      "metadata": {},
      "source": [
        "Нормализуем данные"
      ]
    },
    {
      "cell_type": "code",
      "execution_count": 70,
      "id": "84d85799",
      "metadata": {},
      "outputs": [],
      "source": [
        "scaler = preprocessing.RobustScaler()\n",
        "scaler.fit(X_train)\n",
        "X_train_scaled = scaler.transform(X_train)\n",
        "X_test_scaled = scaler.transform(X_test)"
      ]
    },
    {
      "cell_type": "markdown",
      "id": "65f34425",
      "metadata": {},
      "source": [
        "Подбираем гиперпараметры с помощью OPTUNA"
      ]
    },
    {
      "cell_type": "code",
      "execution_count": 71,
      "id": "be315336",
      "metadata": {},
      "outputs": [
        {
          "name": "stderr",
          "output_type": "stream",
          "text": [
            "[I 2024-07-06 19:10:43,647] A new study created in memory with name: RandomForestRegressor\n",
            "[I 2024-07-06 19:11:32,498] Trial 0 finished with value: 40.88676778780706 and parameters: {'n_estimators': 120, 'max_depth': 10, 'min_samples_leaf': 5}. Best is trial 0 with value: 40.88676778780706.\n",
            "[I 2024-07-06 19:12:26,176] Trial 1 finished with value: 34.378378710298705 and parameters: {'n_estimators': 100, 'max_depth': 14, 'min_samples_leaf': 8}. Best is trial 1 with value: 34.378378710298705.\n",
            "[I 2024-07-06 19:14:18,141] Trial 2 finished with value: 18.302936475120166 and parameters: {'n_estimators': 140, 'max_depth': 35, 'min_samples_leaf': 4}. Best is trial 2 with value: 18.302936475120166.\n",
            "[I 2024-07-06 19:14:40,287] Trial 3 finished with value: 24.518295121311464 and parameters: {'n_estimators': 30, 'max_depth': 31, 'min_samples_leaf': 8}. Best is trial 2 with value: 18.302936475120166.\n",
            "[I 2024-07-06 19:15:14,473] Trial 4 finished with value: 26.803139933795826 and parameters: {'n_estimators': 50, 'max_depth': 21, 'min_samples_leaf': 7}. Best is trial 2 with value: 18.302936475120166.\n",
            "[I 2024-07-06 19:15:45,724] Trial 5 finished with value: 20.42963065781861 and parameters: {'n_estimators': 40, 'max_depth': 38, 'min_samples_leaf': 5}. Best is trial 2 with value: 18.302936475120166.\n",
            "[I 2024-07-06 19:16:46,662] Trial 6 finished with value: 35.83633353232915 and parameters: {'n_estimators': 120, 'max_depth': 13, 'min_samples_leaf': 8}. Best is trial 2 with value: 18.302936475120166.\n",
            "[I 2024-07-06 19:18:54,525] Trial 7 finished with value: 23.05466302559952 and parameters: {'n_estimators': 170, 'max_depth': 35, 'min_samples_leaf': 7}. Best is trial 2 with value: 18.302936475120166.\n",
            "[I 2024-07-06 19:21:35,114] Trial 8 finished with value: 18.18026915870411 and parameters: {'n_estimators': 200, 'max_depth': 44, 'min_samples_leaf': 4}. Best is trial 8 with value: 18.18026915870411.\n",
            "[I 2024-07-06 19:22:25,562] Trial 9 finished with value: 33.55287311856187 and parameters: {'n_estimators': 90, 'max_depth': 15, 'min_samples_leaf': 10}. Best is trial 8 with value: 18.18026915870411.\n"
          ]
        },
        {
          "name": "stdout",
          "output_type": "stream",
          "text": [
            "Наилучшие значения гиперпараметров {'n_estimators': 200, 'max_depth': 44, 'min_samples_leaf': 4}\n",
            "MAPE на обучающем наборе: 18.180\n",
            "MAPE на тестовом наборе: 31.005\n"
          ]
        }
      ],
      "source": [
        "def optuna_rf(trial):\n",
        "  # задаем пространства поиска гиперпараметров\n",
        "  n_estimators = trial.suggest_int('n_estimators', 10, 200, 10)\n",
        "  max_depth = trial.suggest_int('max_depth', 5, 50, 1)\n",
        "  min_samples_leaf = trial.suggest_int('min_samples_leaf', 1, 10, 1)\n",
        "  # создаем модель\n",
        "  model = ensemble.RandomForestRegressor(n_estimators=n_estimators,\n",
        "                                          max_depth=max_depth,\n",
        "                                          min_samples_leaf=min_samples_leaf,\n",
        "                                          random_state=42)\n",
        "  # обучаем модель\n",
        "  model.fit(X_train_scaled, y_train_log)\n",
        "  score = metrics.mean_absolute_percentage_error(y_train, np.exp(model.predict(X_train_scaled)))*100\n",
        "  return score\n",
        "\n",
        "# cоздаем объект исследования\n",
        "study = optuna.create_study(study_name=\"RandomForestRegressor\", direction='minimize')\n",
        "# ищем лучшую комбинацию гиперпараметров n_trials раз\n",
        "study.optimize(optuna_rf, n_trials=10)\n",
        "\n",
        "# выводим результаты на обучающей выборке\n",
        "print(\"Наилучшие значения гиперпараметров {}\".format(study.best_params))\n",
        "print(\"MAPE на обучающем наборе: {:.3f}\".format(study.best_value))\n",
        "\n",
        "# рассчитаем точность для тестовой выборки\n",
        "model = ensemble.RandomForestRegressor(**study.best_params,random_state=42)\n",
        "model.fit(X_train_scaled, y_train_log)\n",
        "y_train_pred = np.exp(model.predict(X_train_scaled))\n",
        "y_test_pred = np.exp(model.predict(X_test_scaled))\n",
        "print('MAPE на тестовом наборе: {:.3f}'.format(metrics.mean_absolute_percentage_error(y_test, y_test_pred)*100))"
      ]
    },
    {
      "cell_type": "code",
      "execution_count": 72,
      "id": "1b11f1c4",
      "metadata": {},
      "outputs": [
        {
          "name": "stderr",
          "output_type": "stream",
          "text": [
            "[I 2024-07-06 19:28:30,966] Trial 10 finished with value: 10.139371502387823 and parameters: {'n_estimators': 200, 'max_depth': 50, 'min_samples_leaf': 1}. Best is trial 10 with value: 10.139371502387823.\n",
            "[I 2024-07-06 19:31:45,442] Trial 11 finished with value: 10.139371502387823 and parameters: {'n_estimators': 200, 'max_depth': 50, 'min_samples_leaf': 1}. Best is trial 10 with value: 10.139371502387823.\n",
            "[I 2024-07-06 19:34:48,870] Trial 12 finished with value: 10.142883275193501 and parameters: {'n_estimators': 190, 'max_depth': 50, 'min_samples_leaf': 1}. Best is trial 10 with value: 10.139371502387823.\n",
            "[I 2024-07-06 19:37:25,219] Trial 13 finished with value: 10.164197601823508 and parameters: {'n_estimators': 160, 'max_depth': 50, 'min_samples_leaf': 1}. Best is trial 10 with value: 10.139371502387823.\n",
            "[I 2024-07-06 19:40:22,589] Trial 14 finished with value: 12.701078681428516 and parameters: {'n_estimators': 200, 'max_depth': 43, 'min_samples_leaf': 2}. Best is trial 10 with value: 10.139371502387823.\n",
            "[I 2024-07-06 19:42:34,756] Trial 15 finished with value: 19.290261407291364 and parameters: {'n_estimators': 170, 'max_depth': 25, 'min_samples_leaf': 3}. Best is trial 10 with value: 10.139371502387823.\n",
            "[I 2024-07-06 19:43:33,330] Trial 16 finished with value: 15.858904294471188 and parameters: {'n_estimators': 70, 'max_depth': 44, 'min_samples_leaf': 3}. Best is trial 10 with value: 10.139371502387823.\n",
            "[I 2024-07-06 19:45:44,903] Trial 17 finished with value: 12.747944954463561 and parameters: {'n_estimators': 150, 'max_depth': 41, 'min_samples_leaf': 2}. Best is trial 10 with value: 10.139371502387823.\n",
            "[I 2024-07-06 19:48:40,292] Trial 18 finished with value: 10.147958858253208 and parameters: {'n_estimators': 180, 'max_depth': 49, 'min_samples_leaf': 1}. Best is trial 10 with value: 10.139371502387823.\n",
            "[I 2024-07-06 19:48:48,669] Trial 19 finished with value: 16.75743733539568 and parameters: {'n_estimators': 10, 'max_depth': 28, 'min_samples_leaf': 2}. Best is trial 10 with value: 10.139371502387823.\n"
          ]
        },
        {
          "name": "stdout",
          "output_type": "stream",
          "text": [
            "CPU times: user 23min 18s, sys: 5.35 s, total: 23min 23s\n",
            "Wall time: 23min 33s\n"
          ]
        }
      ],
      "source": [
        "%%time\n",
        "# продолжим подбор еще 10 итераций \n",
        "study.optimize(optuna_rf, n_trials=10)"
      ]
    },
    {
      "cell_type": "code",
      "execution_count": 73,
      "id": "1bd29908",
      "metadata": {},
      "outputs": [
        {
          "name": "stdout",
          "output_type": "stream",
          "text": [
            "Наилучшие значения гиперпараметров {'n_estimators': 200, 'max_depth': 50, 'min_samples_leaf': 1}\n",
            "MAPE на обучающем наборе: 10.139 %\n",
            "MAPE на тестовом наборе: 29.861 %\n"
          ]
        }
      ],
      "source": [
        "# выводим результаты на обучающей выборке\n",
        "print(\"Наилучшие значения гиперпараметров {}\".format(study.best_params))\n",
        "print(\"MAPE на обучающем наборе: {:.3f} %\".format(study.best_value))\n",
        "\n",
        "# рассчитаем точность для тестовой выборки\n",
        "model = ensemble.RandomForestRegressor(**study.best_params,random_state=42)\n",
        "model.fit(X_train_scaled, y_train_log)\n",
        "y_train_pred = np.exp(model.predict(X_train_scaled))\n",
        "y_test_pred = np.exp(model.predict(X_test_scaled))\n",
        "print('MAPE на тестовом наборе: {:.3f} %'.format(metrics.mean_absolute_percentage_error(y_test, y_test_pred)*100))"
      ]
    },
    {
      "cell_type": "markdown",
      "id": "b4141601",
      "metadata": {},
      "source": [
        "Попробуем применить алгоритмы градиентного бустинга:"
      ]
    },
    {
      "cell_type": "code",
      "execution_count": 74,
      "id": "e99af7b7",
      "metadata": {},
      "outputs": [
        {
          "name": "stdout",
          "output_type": "stream",
          "text": [
            "Learning rate set to 0.425514\n",
            "0:\tlearn: 0.7275846\ttotal: 66.5ms\tremaining: 9.9s\n",
            "1:\tlearn: 0.6475839\ttotal: 70.7ms\tremaining: 5.23s\n",
            "2:\tlearn: 0.5999210\ttotal: 74.7ms\tremaining: 3.66s\n",
            "3:\tlearn: 0.5743220\ttotal: 79.2ms\tremaining: 2.89s\n",
            "4:\tlearn: 0.5597413\ttotal: 84ms\tremaining: 2.44s\n",
            "5:\tlearn: 0.5476117\ttotal: 87.7ms\tremaining: 2.1s\n",
            "6:\tlearn: 0.5349623\ttotal: 91.4ms\tremaining: 1.87s\n",
            "7:\tlearn: 0.5252046\ttotal: 95.5ms\tremaining: 1.7s\n",
            "8:\tlearn: 0.5180656\ttotal: 99.7ms\tremaining: 1.56s\n",
            "9:\tlearn: 0.5122900\ttotal: 104ms\tremaining: 1.45s\n",
            "10:\tlearn: 0.5072658\ttotal: 108ms\tremaining: 1.36s\n",
            "11:\tlearn: 0.5012444\ttotal: 112ms\tremaining: 1.29s\n",
            "12:\tlearn: 0.4983094\ttotal: 116ms\tremaining: 1.22s\n",
            "13:\tlearn: 0.4950379\ttotal: 120ms\tremaining: 1.17s\n",
            "14:\tlearn: 0.4903520\ttotal: 125ms\tremaining: 1.12s\n",
            "15:\tlearn: 0.4872226\ttotal: 129ms\tremaining: 1.08s\n",
            "16:\tlearn: 0.4838605\ttotal: 133ms\tremaining: 1.04s\n",
            "17:\tlearn: 0.4803458\ttotal: 138ms\tremaining: 1.01s\n",
            "18:\tlearn: 0.4769936\ttotal: 142ms\tremaining: 977ms\n",
            "19:\tlearn: 0.4753250\ttotal: 146ms\tremaining: 948ms\n",
            "20:\tlearn: 0.4738402\ttotal: 150ms\tremaining: 920ms\n",
            "21:\tlearn: 0.4722178\ttotal: 154ms\tremaining: 894ms\n",
            "22:\tlearn: 0.4695980\ttotal: 158ms\tremaining: 872ms\n",
            "23:\tlearn: 0.4683618\ttotal: 162ms\tremaining: 851ms\n",
            "24:\tlearn: 0.4669383\ttotal: 167ms\tremaining: 833ms\n",
            "25:\tlearn: 0.4655746\ttotal: 171ms\tremaining: 815ms\n",
            "26:\tlearn: 0.4636212\ttotal: 175ms\tremaining: 795ms\n",
            "27:\tlearn: 0.4616221\ttotal: 180ms\tremaining: 783ms\n",
            "28:\tlearn: 0.4590515\ttotal: 186ms\tremaining: 775ms\n",
            "29:\tlearn: 0.4578825\ttotal: 190ms\tremaining: 760ms\n",
            "30:\tlearn: 0.4571745\ttotal: 194ms\tremaining: 746ms\n",
            "31:\tlearn: 0.4557289\ttotal: 199ms\tremaining: 732ms\n",
            "32:\tlearn: 0.4545142\ttotal: 203ms\tremaining: 719ms\n",
            "33:\tlearn: 0.4533716\ttotal: 207ms\tremaining: 706ms\n",
            "34:\tlearn: 0.4520253\ttotal: 211ms\tremaining: 694ms\n",
            "35:\tlearn: 0.4511297\ttotal: 216ms\tremaining: 683ms\n",
            "36:\tlearn: 0.4498500\ttotal: 220ms\tremaining: 673ms\n",
            "37:\tlearn: 0.4487062\ttotal: 225ms\tremaining: 662ms\n",
            "38:\tlearn: 0.4472859\ttotal: 229ms\tremaining: 652ms\n",
            "39:\tlearn: 0.4464338\ttotal: 233ms\tremaining: 640ms\n",
            "40:\tlearn: 0.4459275\ttotal: 237ms\tremaining: 629ms\n",
            "41:\tlearn: 0.4444254\ttotal: 241ms\tremaining: 619ms\n",
            "42:\tlearn: 0.4436410\ttotal: 245ms\tremaining: 611ms\n",
            "43:\tlearn: 0.4429338\ttotal: 250ms\tremaining: 602ms\n",
            "44:\tlearn: 0.4421791\ttotal: 254ms\tremaining: 592ms\n",
            "45:\tlearn: 0.4412018\ttotal: 258ms\tremaining: 583ms\n",
            "46:\tlearn: 0.4405410\ttotal: 262ms\tremaining: 575ms\n",
            "47:\tlearn: 0.4395941\ttotal: 266ms\tremaining: 566ms\n",
            "48:\tlearn: 0.4385031\ttotal: 271ms\tremaining: 558ms\n",
            "49:\tlearn: 0.4380633\ttotal: 276ms\tremaining: 551ms\n",
            "50:\tlearn: 0.4373817\ttotal: 280ms\tremaining: 543ms\n",
            "51:\tlearn: 0.4368270\ttotal: 284ms\tremaining: 535ms\n",
            "52:\tlearn: 0.4363177\ttotal: 288ms\tremaining: 527ms\n",
            "53:\tlearn: 0.4358576\ttotal: 292ms\tremaining: 519ms\n",
            "54:\tlearn: 0.4351610\ttotal: 296ms\tremaining: 511ms\n",
            "55:\tlearn: 0.4344210\ttotal: 300ms\tremaining: 504ms\n",
            "56:\tlearn: 0.4338954\ttotal: 304ms\tremaining: 496ms\n",
            "57:\tlearn: 0.4331072\ttotal: 309ms\tremaining: 489ms\n",
            "58:\tlearn: 0.4323790\ttotal: 313ms\tremaining: 482ms\n",
            "59:\tlearn: 0.4316687\ttotal: 317ms\tremaining: 476ms\n",
            "60:\tlearn: 0.4307250\ttotal: 321ms\tremaining: 469ms\n",
            "61:\tlearn: 0.4300785\ttotal: 326ms\tremaining: 463ms\n",
            "62:\tlearn: 0.4292473\ttotal: 331ms\tremaining: 457ms\n",
            "63:\tlearn: 0.4287021\ttotal: 335ms\tremaining: 450ms\n",
            "64:\tlearn: 0.4281532\ttotal: 339ms\tremaining: 444ms\n",
            "65:\tlearn: 0.4277496\ttotal: 344ms\tremaining: 438ms\n",
            "66:\tlearn: 0.4270267\ttotal: 348ms\tremaining: 431ms\n",
            "67:\tlearn: 0.4267736\ttotal: 352ms\tremaining: 424ms\n",
            "68:\tlearn: 0.4261450\ttotal: 356ms\tremaining: 418ms\n",
            "69:\tlearn: 0.4254911\ttotal: 360ms\tremaining: 411ms\n",
            "70:\tlearn: 0.4247473\ttotal: 364ms\tremaining: 405ms\n",
            "71:\tlearn: 0.4242330\ttotal: 368ms\tremaining: 399ms\n",
            "72:\tlearn: 0.4237238\ttotal: 373ms\tremaining: 393ms\n",
            "73:\tlearn: 0.4232609\ttotal: 377ms\tremaining: 387ms\n",
            "74:\tlearn: 0.4228119\ttotal: 381ms\tremaining: 381ms\n",
            "75:\tlearn: 0.4222598\ttotal: 386ms\tremaining: 376ms\n",
            "76:\tlearn: 0.4218639\ttotal: 390ms\tremaining: 370ms\n",
            "77:\tlearn: 0.4214466\ttotal: 396ms\tremaining: 365ms\n",
            "78:\tlearn: 0.4210641\ttotal: 400ms\tremaining: 359ms\n",
            "79:\tlearn: 0.4205567\ttotal: 404ms\tremaining: 353ms\n",
            "80:\tlearn: 0.4197822\ttotal: 408ms\tremaining: 348ms\n",
            "81:\tlearn: 0.4192836\ttotal: 413ms\tremaining: 343ms\n",
            "82:\tlearn: 0.4189198\ttotal: 418ms\tremaining: 337ms\n",
            "83:\tlearn: 0.4185035\ttotal: 422ms\tremaining: 331ms\n",
            "84:\tlearn: 0.4182426\ttotal: 426ms\tremaining: 325ms\n",
            "85:\tlearn: 0.4179298\ttotal: 430ms\tremaining: 320ms\n",
            "86:\tlearn: 0.4173043\ttotal: 434ms\tremaining: 314ms\n",
            "87:\tlearn: 0.4168433\ttotal: 438ms\tremaining: 308ms\n",
            "88:\tlearn: 0.4165738\ttotal: 442ms\tremaining: 303ms\n",
            "89:\tlearn: 0.4161354\ttotal: 446ms\tremaining: 297ms\n",
            "90:\tlearn: 0.4157164\ttotal: 450ms\tremaining: 292ms\n",
            "91:\tlearn: 0.4152337\ttotal: 454ms\tremaining: 286ms\n",
            "92:\tlearn: 0.4148751\ttotal: 458ms\tremaining: 281ms\n",
            "93:\tlearn: 0.4145835\ttotal: 462ms\tremaining: 275ms\n",
            "94:\tlearn: 0.4142212\ttotal: 467ms\tremaining: 270ms\n",
            "95:\tlearn: 0.4139073\ttotal: 471ms\tremaining: 265ms\n",
            "96:\tlearn: 0.4134188\ttotal: 475ms\tremaining: 259ms\n",
            "97:\tlearn: 0.4130475\ttotal: 479ms\tremaining: 254ms\n",
            "98:\tlearn: 0.4128466\ttotal: 484ms\tremaining: 249ms\n",
            "99:\tlearn: 0.4124025\ttotal: 488ms\tremaining: 244ms\n",
            "100:\tlearn: 0.4120589\ttotal: 493ms\tremaining: 239ms\n",
            "101:\tlearn: 0.4116391\ttotal: 497ms\tremaining: 234ms\n",
            "102:\tlearn: 0.4113599\ttotal: 501ms\tremaining: 229ms\n",
            "103:\tlearn: 0.4110240\ttotal: 505ms\tremaining: 224ms\n",
            "104:\tlearn: 0.4108123\ttotal: 510ms\tremaining: 218ms\n",
            "105:\tlearn: 0.4104360\ttotal: 515ms\tremaining: 214ms\n",
            "106:\tlearn: 0.4101855\ttotal: 520ms\tremaining: 209ms\n",
            "107:\tlearn: 0.4097565\ttotal: 524ms\tremaining: 204ms\n",
            "108:\tlearn: 0.4093022\ttotal: 528ms\tremaining: 199ms\n",
            "109:\tlearn: 0.4089245\ttotal: 532ms\tremaining: 193ms\n",
            "110:\tlearn: 0.4086265\ttotal: 536ms\tremaining: 188ms\n",
            "111:\tlearn: 0.4084123\ttotal: 540ms\tremaining: 183ms\n",
            "112:\tlearn: 0.4081711\ttotal: 544ms\tremaining: 178ms\n",
            "113:\tlearn: 0.4078931\ttotal: 548ms\tremaining: 173ms\n",
            "114:\tlearn: 0.4078827\ttotal: 552ms\tremaining: 168ms\n",
            "115:\tlearn: 0.4075393\ttotal: 556ms\tremaining: 163ms\n",
            "116:\tlearn: 0.4073371\ttotal: 560ms\tremaining: 158ms\n",
            "117:\tlearn: 0.4070721\ttotal: 564ms\tremaining: 153ms\n",
            "118:\tlearn: 0.4068550\ttotal: 568ms\tremaining: 148ms\n",
            "119:\tlearn: 0.4063545\ttotal: 573ms\tremaining: 143ms\n",
            "120:\tlearn: 0.4056548\ttotal: 577ms\tremaining: 138ms\n",
            "121:\tlearn: 0.4054323\ttotal: 592ms\tremaining: 136ms\n",
            "122:\tlearn: 0.4050430\ttotal: 624ms\tremaining: 137ms\n",
            "123:\tlearn: 0.4049040\ttotal: 634ms\tremaining: 133ms\n",
            "124:\tlearn: 0.4047303\ttotal: 639ms\tremaining: 128ms\n",
            "125:\tlearn: 0.4045759\ttotal: 644ms\tremaining: 123ms\n",
            "126:\tlearn: 0.4043216\ttotal: 649ms\tremaining: 118ms\n",
            "127:\tlearn: 0.4040728\ttotal: 653ms\tremaining: 112ms\n",
            "128:\tlearn: 0.4037995\ttotal: 657ms\tremaining: 107ms\n",
            "129:\tlearn: 0.4035998\ttotal: 662ms\tremaining: 102ms\n",
            "130:\tlearn: 0.4034271\ttotal: 666ms\tremaining: 96.6ms\n",
            "131:\tlearn: 0.4031495\ttotal: 670ms\tremaining: 91.3ms\n",
            "132:\tlearn: 0.4027838\ttotal: 674ms\tremaining: 86.2ms\n",
            "133:\tlearn: 0.4024971\ttotal: 679ms\tremaining: 81ms\n",
            "134:\tlearn: 0.4020394\ttotal: 683ms\tremaining: 75.9ms\n",
            "135:\tlearn: 0.4018139\ttotal: 688ms\tremaining: 70.8ms\n",
            "136:\tlearn: 0.4015863\ttotal: 693ms\tremaining: 65.7ms\n",
            "137:\tlearn: 0.4013373\ttotal: 697ms\tremaining: 60.6ms\n",
            "138:\tlearn: 0.4010585\ttotal: 701ms\tremaining: 55.5ms\n",
            "139:\tlearn: 0.4007221\ttotal: 706ms\tremaining: 50.4ms\n",
            "140:\tlearn: 0.4004991\ttotal: 710ms\tremaining: 45.3ms\n",
            "141:\tlearn: 0.4002183\ttotal: 715ms\tremaining: 40.3ms\n",
            "142:\tlearn: 0.3999607\ttotal: 719ms\tremaining: 35.2ms\n",
            "143:\tlearn: 0.3997386\ttotal: 723ms\tremaining: 30.1ms\n",
            "144:\tlearn: 0.3994724\ttotal: 727ms\tremaining: 25.1ms\n",
            "145:\tlearn: 0.3992229\ttotal: 732ms\tremaining: 20ms\n",
            "146:\tlearn: 0.3990952\ttotal: 736ms\tremaining: 15ms\n",
            "147:\tlearn: 0.3988598\ttotal: 741ms\tremaining: 10ms\n",
            "148:\tlearn: 0.3986328\ttotal: 745ms\tremaining: 5ms\n",
            "149:\tlearn: 0.3983848\ttotal: 749ms\tremaining: 0us\n",
            "Train MAPE: 31.074 %\n",
            "Test MAPE: 32.275 %\n",
            "Наилучшие значения гиперпарметров: {'iterations': 150, 'loss_function': 'RMSE', 'random_state': 42}\n"
          ]
        }
      ],
      "source": [
        "from catboost import CatBoostRegressor\n",
        "\n",
        "cb = CatBoostRegressor(random_state=42, iterations=150)\n",
        "#Обучаем модель\n",
        "cb.fit(X_train_scaled, y_train_log)\n",
        "\n",
        "#Делаем предсказание для тренировочной выборки\n",
        "y_train_pred_cb = np.exp(cb.predict(X_train_scaled))\n",
        "#Выводим значение метрики MAPE для тренировочной выборки\n",
        "print('Train MAPE: {:.3f} %'.format(metrics.mean_absolute_percentage_error(y_train, y_train_pred_cb)*100))\n",
        "#Делаем предсказание для тестовой выборки\n",
        "y_test_pred_cb = np.exp(cb.predict(X_test_scaled))\n",
        "#Выводим значение метрики MAPE для тестовой выборки\n",
        "print('Test MAPE: {:.3f} %'.format(metrics.mean_absolute_percentage_error(y_test, y_test_pred_cb)*100))\n",
        "print(\"Наилучшие значения гиперпарметров: {}\".format(cb.get_params()))"
      ]
    },
    {
      "cell_type": "code",
      "execution_count": 75,
      "id": "ab8b25fd",
      "metadata": {},
      "outputs": [
        {
          "name": "stdout",
          "output_type": "stream",
          "text": [
            "Train MAPE: 30.032 %\n",
            "Test MAPE: 32.278 %\n"
          ]
        }
      ],
      "source": [
        "from xgboost import XGBRegressor\n",
        "#Создаем объект класса логистическая регрессия\n",
        "xb = XGBRegressor(random_state=26)\n",
        "#Обучаем модель, минимизируя logloss\n",
        "xb.fit(X_train_scaled, y_train_log)\n",
        "\n",
        "#Делаем предсказание для тренировочной выборки\n",
        "y_train_pred_xb = np.exp(xb.predict(X_train_scaled))\n",
        "#Выводим значение метрики f1-score для тренировочной выборки\n",
        "print('Train MAPE: {:.3f} %'.format(metrics.mean_absolute_percentage_error(y_train, y_train_pred_xb)*100))\n",
        "#Делаем предсказание для тестовой выборки\n",
        "y_test_pred_xb = np.exp(xb.predict(X_test_scaled))\n",
        "#Выводим значение метрики f1-score для тестовой выборки\n",
        "print('Test MAPE: {:.3f} %'.format(metrics.mean_absolute_percentage_error(y_test, y_test_pred_xb)*100))"
      ]
    },
    {
      "cell_type": "markdown",
      "id": "3110dc74",
      "metadata": {},
      "source": [
        "Так как значения метрик на тестовой выборке при использовании бустинга получаются чуть хуже значений метрики без использования бустинга остановимся на модели на основе Случайного леса с подбором оптимальных параметров с помощью OPTUNA"
      ]
    },
    {
      "cell_type": "markdown",
      "id": "f6cb7eb0",
      "metadata": {},
      "source": [
        "### ___________________ ###"
      ]
    },
    {
      "cell_type": "markdown",
      "id": "85cf135e",
      "metadata": {},
      "source": [
        "Воспользуемся разбиением исходного набора данных на обучающую, валидационную и тестовую выборки.\n",
        "\n",
        "Обучение будем производить на обучающем наборе данных, подбор параметров будем делать с помощью валидационной выборки, а оценивать результат подбора будем на тестовой выборке."
      ]
    },
    {
      "cell_type": "code",
      "execution_count": 76,
      "id": "602a9a54",
      "metadata": {},
      "outputs": [],
      "source": [
        "#разбиваем исходную выборку на тренировочную и валидационную в соотношении 70/30\n",
        "X_train, X_valid, y_train, y_valid = train_test_split(X, y, test_size=0.3, random_state=42)\n",
        "#разбиваем валидационную выборку на валидационную и тестовую в соотношении 50/50\n",
        "X_valid, X_test, y_valid, y_test = train_test_split(X_valid, y_valid, test_size=0.5, random_state=42)"
      ]
    },
    {
      "cell_type": "markdown",
      "id": "3e851811",
      "metadata": {},
      "source": [
        "Нормализуем данные"
      ]
    },
    {
      "cell_type": "code",
      "execution_count": 77,
      "id": "63b537df",
      "metadata": {},
      "outputs": [],
      "source": [
        "scaler = preprocessing.RobustScaler()\n",
        "scaler.fit(X_train)\n",
        "X_train_scaled = scaler.transform(X_train)\n",
        "X_valid_scaled = scaler.transform(X_valid)\n",
        "X_test_scaled = scaler.transform(X_test)"
      ]
    },
    {
      "cell_type": "markdown",
      "id": "bba14c3e",
      "metadata": {},
      "source": [
        "Логарифмируем целевую переменную:"
      ]
    },
    {
      "cell_type": "code",
      "execution_count": 78,
      "id": "44c190c1",
      "metadata": {},
      "outputs": [],
      "source": [
        "y_train_log = np.log(y_train)\n",
        "y_valid_log = np.log(y_valid)"
      ]
    },
    {
      "cell_type": "code",
      "execution_count": 79,
      "id": "b1bbb876",
      "metadata": {},
      "outputs": [
        {
          "name": "stderr",
          "output_type": "stream",
          "text": [
            "[I 2024-07-06 19:56:34,839] A new study created in memory with name: RandomForestRegressor\n",
            "[I 2024-07-06 19:58:12,443] Trial 0 finished with value: 32.08397332677435 and parameters: {'n_estimators': 130, 'max_depth': 28, 'min_samples_leaf': 5}. Best is trial 0 with value: 32.08397332677435.\n",
            "[I 2024-07-06 19:59:42,794] Trial 1 finished with value: 32.25096678929188 and parameters: {'n_estimators': 120, 'max_depth': 46, 'min_samples_leaf': 6}. Best is trial 0 with value: 32.08397332677435.\n",
            "[I 2024-07-06 20:01:49,018] Trial 2 finished with value: 33.43291041291104 and parameters: {'n_estimators': 180, 'max_depth': 25, 'min_samples_leaf': 9}. Best is trial 0 with value: 32.08397332677435.\n",
            "[I 2024-07-06 20:03:49,333] Trial 3 finished with value: 32.23769152212188 and parameters: {'n_estimators': 160, 'max_depth': 35, 'min_samples_leaf': 6}. Best is trial 0 with value: 32.08397332677435.\n",
            "[I 2024-07-06 20:06:32,797] Trial 4 finished with value: 30.504474568688284 and parameters: {'n_estimators': 190, 'max_depth': 41, 'min_samples_leaf': 2}. Best is trial 4 with value: 30.504474568688284.\n",
            "[I 2024-07-06 20:08:48,021] Trial 5 finished with value: 33.06930529104067 and parameters: {'n_estimators': 190, 'max_depth': 23, 'min_samples_leaf': 6}. Best is trial 4 with value: 30.504474568688284.\n",
            "[I 2024-07-06 20:09:03,979] Trial 6 finished with value: 38.23727282816545 and parameters: {'n_estimators': 30, 'max_depth': 14, 'min_samples_leaf': 8}. Best is trial 4 with value: 30.504474568688284.\n",
            "[I 2024-07-06 20:10:15,168] Trial 7 finished with value: 33.303391770325874 and parameters: {'n_estimators': 100, 'max_depth': 27, 'min_samples_leaf': 9}. Best is trial 4 with value: 30.504474568688284.\n",
            "[I 2024-07-06 20:12:40,876] Trial 8 finished with value: 32.852194532232346 and parameters: {'n_estimators': 200, 'max_depth': 49, 'min_samples_leaf': 8}. Best is trial 4 with value: 30.504474568688284.\n",
            "[I 2024-07-06 20:14:07,597] Trial 9 finished with value: 38.93707591518275 and parameters: {'n_estimators': 170, 'max_depth': 13, 'min_samples_leaf': 4}. Best is trial 4 with value: 30.504474568688284.\n"
          ]
        },
        {
          "name": "stdout",
          "output_type": "stream",
          "text": [
            "Наилучшие значения гиперпараметров {'n_estimators': 190, 'max_depth': 41, 'min_samples_leaf': 2}\n",
            "MAPE на тренировочном наборе: 10.139 %\n",
            "MAPE на валидационном наборе: 30.504 %\n",
            "MAPE на тестовом наборе: 29.757 %\n"
          ]
        }
      ],
      "source": [
        "def optuna_rf(trial):\n",
        "  # задаем пространства поиска гиперпараметров\n",
        "  n_estimators = trial.suggest_int('n_estimators', 10, 200, 10)\n",
        "  max_depth = trial.suggest_int('max_depth', 5, 50, 1)\n",
        "  min_samples_leaf = trial.suggest_int('min_samples_leaf', 1, 10, 1)\n",
        "  # создаем модель\n",
        "  model = ensemble.RandomForestRegressor(n_estimators=n_estimators,\n",
        "                                          max_depth=max_depth,\n",
        "                                          min_samples_leaf=min_samples_leaf,\n",
        "                                          random_state=42)\n",
        "  # обучаем модель\n",
        "  model.fit(X_train_scaled, y_train_log)\n",
        "  score = metrics.mean_absolute_percentage_error(y_valid, np.exp(model.predict(X_valid_scaled)))*100\n",
        "  return score\n",
        "\n",
        "# cоздаем объект исследования\n",
        "study = optuna.create_study(study_name=\"RandomForestRegressor\", direction='minimize')\n",
        "# ищем лучшую комбинацию гиперпараметров n_trials раз\n",
        "study.optimize(optuna_rf, n_trials=10)\n",
        "\n",
        "# выводим результаты на валидационной выборке\n",
        "print(\"Наилучшие значения гиперпараметров {}\".format(study.best_params))\n",
        "print(\"MAPE на тренировочном наборе: {:.3f} %\".format(metrics.mean_absolute_percentage_error(y_train, np.exp(model.predict(X_train_scaled)))*100))\n",
        "print(\"MAPE на валидационном наборе: {:.3f} %\".format(study.best_value))\n",
        "\n",
        "# рассчитаем точность для тестовой выборки\n",
        "model = ensemble.RandomForestRegressor(**study.best_params,random_state=42)\n",
        "model.fit(X_train_scaled, y_train_log)\n",
        "y_valid_pred = np.exp(model.predict(X_valid_scaled))\n",
        "y_test_pred = np.exp(model.predict(X_test_scaled))\n",
        "print('MAPE на тестовом наборе: {:.3f} %'.format(metrics.mean_absolute_percentage_error(y_test, y_test_pred)*100))"
      ]
    },
    {
      "cell_type": "code",
      "execution_count": 80,
      "id": "cf7cf9ad",
      "metadata": {},
      "outputs": [
        {
          "name": "stderr",
          "output_type": "stream",
          "text": [
            "[I 2024-07-06 20:21:52,954] Trial 10 finished with value: 30.451936469448288 and parameters: {'n_estimators': 70, 'max_depth': 39, 'min_samples_leaf': 1}. Best is trial 10 with value: 30.451936469448288.\n",
            "[I 2024-07-06 20:23:25,079] Trial 11 finished with value: 30.54278076470862 and parameters: {'n_estimators': 60, 'max_depth': 39, 'min_samples_leaf': 1}. Best is trial 10 with value: 30.451936469448288.\n",
            "[I 2024-07-06 20:25:27,971] Trial 12 finished with value: 30.41408841653997 and parameters: {'n_estimators': 80, 'max_depth': 39, 'min_samples_leaf': 1}. Best is trial 12 with value: 30.41408841653997.\n",
            "[I 2024-07-06 20:27:14,029] Trial 13 finished with value: 31.182258843783337 and parameters: {'n_estimators': 80, 'max_depth': 33, 'min_samples_leaf': 3}. Best is trial 12 with value: 30.41408841653997.\n",
            "[I 2024-07-06 20:27:44,945] Trial 14 finished with value: 31.123030515291482 and parameters: {'n_estimators': 20, 'max_depth': 42, 'min_samples_leaf': 1}. Best is trial 12 with value: 30.41408841653997.\n",
            "[I 2024-07-06 20:28:51,383] Trial 15 finished with value: 31.28660895062167 and parameters: {'n_estimators': 50, 'max_depth': 34, 'min_samples_leaf': 3}. Best is trial 12 with value: 30.41408841653997.\n",
            "[I 2024-07-06 20:30:43,976] Trial 16 finished with value: 30.630316279923548 and parameters: {'n_estimators': 80, 'max_depth': 50, 'min_samples_leaf': 2}. Best is trial 12 with value: 30.41408841653997.\n",
            "[I 2024-07-06 21:31:03,501] Trial 17 finished with value: 30.58005216298914 and parameters: {'n_estimators': 50, 'max_depth': 44, 'min_samples_leaf': 1}. Best is trial 12 with value: 30.41408841653997.\n",
            "[I 2024-07-06 22:34:48,326] Trial 18 finished with value: 54.9457999174099 and parameters: {'n_estimators': 90, 'max_depth': 5, 'min_samples_leaf': 4}. Best is trial 12 with value: 30.41408841653997.\n",
            "[I 2024-07-06 23:12:22,872] Trial 19 finished with value: 30.565659757506936 and parameters: {'n_estimators': 140, 'max_depth': 37, 'min_samples_leaf': 2}. Best is trial 12 with value: 30.41408841653997.\n"
          ]
        },
        {
          "name": "stdout",
          "output_type": "stream",
          "text": [
            "CPU times: user 15min 20s, sys: 2.82 s, total: 15min 23s\n",
            "Wall time: 2h 52min 1s\n"
          ]
        }
      ],
      "source": [
        "%%time\n",
        "# продолжим подбор еще 10 итераций \n",
        "study.optimize(optuna_rf, n_trials=10)"
      ]
    },
    {
      "cell_type": "code",
      "execution_count": 81,
      "id": "e06acfd0",
      "metadata": {},
      "outputs": [
        {
          "name": "stdout",
          "output_type": "stream",
          "text": [
            "Наилучшие значения гиперпараметров {'n_estimators': 80, 'max_depth': 39, 'min_samples_leaf': 1}\n",
            "MAPE на обучающем наборе: 10.466 %\n",
            "MAPE на валидационном  наборе: 30.414 %\n",
            "MAPE на тестовом наборе: 29.727 %\n"
          ]
        }
      ],
      "source": [
        "# выводим результаты\n",
        "print(\"Наилучшие значения гиперпараметров {}\".format(study.best_params))\n",
        "\n",
        "# рассчитаем точность для тестовой выборки\n",
        "best_model = ensemble.RandomForestRegressor(**study.best_params,random_state=42)\n",
        "best_model.fit(X_train_scaled, y_train_log)\n",
        "y_train_pred = np.exp(best_model.predict(X_train_scaled))\n",
        "y_valid_pred = np.exp(best_model.predict(X_valid_scaled))\n",
        "y_test_pred = np.exp(best_model.predict(X_test_scaled))\n",
        "print('MAPE на обучающем наборе: {:.3f} %'.format(metrics.mean_absolute_percentage_error(y_train, y_train_pred)*100))\n",
        "print('MAPE на валидационном  наборе: {:.3f} %'.format(metrics.mean_absolute_percentage_error(y_valid, y_valid_pred)*100))\n",
        "print('MAPE на тестовом наборе: {:.3f} %'.format(metrics.mean_absolute_percentage_error(y_test, y_test_pred)*100))"
      ]
    },
    {
      "cell_type": "markdown",
      "id": "bc2490ff",
      "metadata": {},
      "source": [
        "Записываем модель с оптимальными параметрами в файл"
      ]
    },
    {
      "cell_type": "code",
      "execution_count": 82,
      "id": "b1417557",
      "metadata": {},
      "outputs": [],
      "source": [
        "import pickle\n",
        "# Производим сериализацию и записываем результат в файл формата pkl\n",
        "with open('web/app/models/model_opt.pkl', 'wb') as output:\n",
        "    pickle.dump(best_model, output)"
      ]
    }
  ],
  "metadata": {
    "colab": {
      "provenance": []
    },
    "kernelspec": {
      "display_name": "Python 3.10.8 ('base')",
      "language": "python",
      "name": "python3"
    },
    "language_info": {
      "codemirror_mode": {
        "name": "ipython",
        "version": 3
      },
      "file_extension": ".py",
      "mimetype": "text/x-python",
      "name": "python",
      "nbconvert_exporter": "python",
      "pygments_lexer": "ipython3",
      "version": "3.10.9"
    },
    "vscode": {
      "interpreter": {
        "hash": "86c56a74836ad344b00594bf6f38fa6a676a207ceefe20d101fbc465800ccb8d"
      }
    }
  },
  "nbformat": 4,
  "nbformat_minor": 5
}
